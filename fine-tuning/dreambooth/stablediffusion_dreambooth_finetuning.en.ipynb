{
 "cells": [
  {
   "cell_type": "markdown",
   "id": "450066fd",
   "metadata": {
    "pycharm": {
     "name": "#%% md\n"
    }
   },
   "source": [
    "### Dreambooth Fine-tuning\n",
    "DreamBooth is a deep learning generation model used to fine-tune existing text-to-image models, developed by researchers from Google Research and Boston University in 2022. Originally developed using Google's own Imagen text-to-image model, DreamBooth implementations can be applied to other text-to-image models, where it can allow the model to generate more fine-tuned and personalised outputs after training on three to five images of a subject.\n",
    "\n",
    "We should use dreambooth fine tuning our stable diffusion model.\n",
    "\n",
    "#### Notebook step\n",
    "1. Import boto3, sagemaker python SDK\n",
    "2. Build dreambooth fine-tuning image\n",
    "3. Fine-tuning \n",
    "   * config hyperparameter\n",
    "   * create training job\n",
    "4. Testing "
   ]
  },
  {
   "cell_type": "markdown",
   "id": "eb9eb077",
   "metadata": {
    "pycharm": {
     "name": "#%% md\n"
    }
   },
   "source": [
    "#### 1. Import boto3, sagemaker python SDK"
   ]
  },
  {
   "cell_type": "code",
   "execution_count": 1,
   "id": "8314fc9b-c468-497b-abcc-259ec792154c",
   "metadata": {
    "pycharm": {
     "name": "#%%\n"
    },
    "tags": []
   },
   "outputs": [
    {
     "name": "stdout",
     "output_type": "stream",
     "text": [
      "sagemaker-us-east-1-462188225149\n"
     ]
    }
   ],
   "source": [
    "import sagemaker\n",
    "import boto3\n",
    "from sagemaker.pytorch import PyTorch\n",
    "sagemaker_session = sagemaker.Session()\n",
    "bucket = sagemaker_session.default_bucket()\n",
    "role = sagemaker.get_execution_role()\n",
    "account_id = boto3.client('sts').get_caller_identity().get('Account')\n",
    "region_name = boto3.session.Session().region_name\n",
    "\n",
    "images_s3uri = 's3://{0}/dreambooth/images/'.format(bucket)\n",
    "models_s3uri = 's3://{0}/stable-diffusion/models/'.format(bucket)\n",
    "dreambooth_s3uri = 's3://{0}/stable-diffusion/dreambooth/'.format(bucket)\n",
    "\n",
    "print(bucket)"
   ]
  },
  {
   "cell_type": "code",
   "execution_count": 5,
   "id": "1e04394c-b52f-4923-be99-cd75ee714c10",
   "metadata": {
    "tags": []
   },
   "outputs": [
    {
     "data": {
      "text/plain": [
       "'s3://sagemaker-us-east-2-462188225149/dreambooth/images/'"
      ]
     },
     "execution_count": 5,
     "metadata": {},
     "output_type": "execute_result"
    }
   ],
   "source": [
    "images_s3uri"
   ]
  },
  {
   "cell_type": "code",
   "execution_count": 21,
   "id": "fb2e9182-c7d9-4b7e-abcb-2dcca4844531",
   "metadata": {
    "tags": []
   },
   "outputs": [
    {
     "data": {
      "text/plain": [
       "'s3://sagemaker-ap-northeast-1-462188225149/RVSD2/'"
      ]
     },
     "execution_count": 21,
     "metadata": {},
     "output_type": "execute_result"
    }
   ],
   "source": [
    "models_s3uri = 's3://sagemaker-ap-northeast-1-462188225149/RVSD2/'\n",
    "models_s3uri"
   ]
  },
  {
   "cell_type": "code",
   "execution_count": 13,
   "id": "c67a40ec-9670-41c1-acba-702776199e1f",
   "metadata": {
    "tags": []
   },
   "outputs": [
    {
     "name": "stdout",
     "output_type": "stream",
     "text": [
      "total 124\n",
      "drwxrwxr-x 3 ec2-user ec2-user  4096 Mar 27 06:53 \u001b[0m\u001b[01;34m.\u001b[0m/\n",
      "drwxrwxr-x 4 ec2-user ec2-user  4096 Mar 27 06:28 \u001b[01;34m..\u001b[0m/\n",
      "-rwxrwxr-x 1 ec2-user ec2-user  1303 Mar 27 06:28 \u001b[01;32mbuild_push.sh\u001b[0m*\n",
      "-rw-rw-r-- 1 ec2-user ec2-user  1330 Mar 27 06:28 Dockerfile\n",
      "-rw-rw-r-- 1 ec2-user ec2-user   376 Mar 27 06:28 Dockerfile.public-ecr\n",
      "drwxrwxr-x 2 ec2-user ec2-user  4096 Mar 27 06:28 \u001b[01;34m.ipynb_checkpoints\u001b[0m/\n",
      "-rw-rw-r-- 1 ec2-user ec2-user   204 Mar 27 06:28 README.md\n",
      "-rw-rw-r-- 1 ec2-user ec2-user 12849 Mar 27 06:53 stablediffusion_dreambooth_finetuning.en.ipynb\n",
      "-rw-rw-r-- 1 ec2-user ec2-user  7505 Mar 27 06:28 stablediffusion_dreambooth_finetuning_notebook.zh.ipynb\n",
      "-rw-rw-r-- 1 ec2-user ec2-user  8757 Mar 27 06:28 stablediffusion_dreambooth_finetuning.zh.ipynb\n",
      "-rw-rw-r-- 1 ec2-user ec2-user 54493 Mar 27 06:28 train_dreambooth.py\n",
      "-rwxrwxr-x 1 ec2-user ec2-user  1432 Mar 27 06:28 \u001b[01;32mtrain.sh\u001b[0m*\n"
     ]
    }
   ],
   "source": [
    "ls -al"
   ]
  },
  {
   "cell_type": "code",
   "execution_count": 37,
   "id": "e9018152-bcf8-4557-aae1-299fccc879ae",
   "metadata": {
    "tags": []
   },
   "outputs": [],
   "source": [
    "!chmod +x build_push.sh"
   ]
  },
  {
   "cell_type": "code",
   "execution_count": 2,
   "id": "9d6bff31-e4a6-45aa-84cf-79dc7763ed10",
   "metadata": {
    "tags": []
   },
   "outputs": [
    {
     "name": "stdout",
     "output_type": "stream",
     "text": [
      "  % Total    % Received % Xferd  Average Speed   Time    Time     Time  Current\n",
      "                                 Dload  Upload   Total   Spent    Left  Speed\n",
      "100 1297k  100 1297k    0     0  18.1M      0 --:--:-- --:--:-- --:--:-- 18.3M\n",
      "image-1.jpg  image-2.jpg  image-3.jpg  image-6.jpg  image-7.jpg  image-8.jpg\n"
     ]
    }
   ],
   "source": [
    "!curl https://dfjcgkift2mhn.cloudfront.net/aigc/images.tgz | tar -xz \n",
    "!ls images/"
   ]
  },
  {
   "cell_type": "code",
   "execution_count": 26,
   "id": "157bc7d6-8ed7-4b74-b287-bac50897e428",
   "metadata": {
    "tags": []
   },
   "outputs": [],
   "source": [
    "rm -rf ./sd_code"
   ]
  },
  {
   "cell_type": "markdown",
   "id": "bd2a3178",
   "metadata": {
    "pycharm": {
     "name": "#%% md\n"
    }
   },
   "source": [
    "#### 2. Build dreambooth fine-tuning image \n",
    "  It will take 60~90 minutes if use small notebook instance(ml.t3.xlarge)"
   ]
  },
  {
   "cell_type": "code",
   "execution_count": 38,
   "id": "a7612e5a",
   "metadata": {
    "pycharm": {
     "name": "#%%\n"
    },
    "tags": []
   },
   "outputs": [
    {
     "name": "stdout",
     "output_type": "stream",
     "text": [
      "Using default tag: latest\n",
      "latest: Pulling from o7x6j3x6/sd-dreambooth-finetuning-v2\n",
      "Digest: sha256:0140c9f9650458d39f63c3d4ada64eee96984b955117bea59db9749f031b3403\n",
      "Status: Image is up to date for public.ecr.aws/o7x6j3x6/sd-dreambooth-finetuning-v2:latest\n",
      "public.ecr.aws/o7x6j3x6/sd-dreambooth-finetuning-v2:latest\n",
      "WARNING! Using --password via the CLI is insecure. Use --password-stdin.\n",
      "WARNING! Your password will be stored unencrypted in /home/ec2-user/.docker/config.json.\n",
      "Configure a credential helper to remove this warning. See\n",
      "https://docs.docker.com/engine/reference/commandline/login/#credentials-store\n",
      "\n",
      "Login Succeeded\n",
      "Cloning into 'sd_dreambooth_extension'...\n",
      "remote: Enumerating objects: 1951, done.\u001b[K\n",
      "remote: Counting objects: 100% (189/189), done.\u001b[K\n",
      "remote: Compressing objects: 100% (85/85), done.\u001b[K\n",
      "remote: Total 1951 (delta 119), reused 167 (delta 104), pack-reused 1762\u001b[K\n",
      "Receiving objects: 100% (1951/1951), 10.25 MiB | 26.65 MiB/s, done.\n",
      "Resolving deltas: 100% (1233/1233), done.\n",
      "Sending build context to Docker daemon   35.5MB\n",
      "Step 1/10 : FROM public.ecr.aws/o7x6j3x6/sd-dreambooth-finetuning-v2\n",
      " ---> 1247d3df8c63\n",
      "Step 2/10 : RUN sed -i 's/diffusers.pipelines.pipeline_utils/diffusers.pipeline_utils/g' /opt/ml/code/extensions/sd_dreambooth_extension/dreambooth/xattention.py\n",
      " ---> Using cache\n",
      " ---> 46f1af85e54e\n",
      "Step 3/10 : RUN curl -L https://github.com/peak/s5cmd/releases/download/v2.0.0/s5cmd_2.0.0_Linux-64bit.tar.gz | tar -xz && mv s5cmd /opt/conda/bin/\n",
      " ---> Using cache\n",
      " ---> ce164e181499\n",
      "Step 4/10 : RUN mkdir -p /opt/ml/input/data/images\n",
      " ---> Using cache\n",
      " ---> 8947fbe6df14\n",
      "Step 5/10 : COPY images/ /opt/ml/input/data/images/\n",
      " ---> Using cache\n",
      " ---> c9c5d740dffb\n",
      "Step 6/10 : COPY ./sd_code/ /opt/ml/code/\n",
      " ---> 73323b31ffdb\n",
      "Step 7/10 : COPY train.sh /opt/ml/code/\n",
      " ---> 2c43439cd6c6\n",
      "Step 8/10 : COPY train_dreambooth.py /opt/ml/code/\n",
      " ---> 23e8023df656\n",
      "Step 9/10 : COPY inference.py /opt/ml/model/code/\n",
      " ---> c7efbfaed76c\n",
      "Step 10/10 : COPY requirements.txt /opt/ml/model/code/\n",
      " ---> 0780055fede8\n",
      "Successfully built 0780055fede8\n",
      "Successfully tagged sd-dreambooth-finetuning-v2:latest\n",
      "The push refers to repository [462188225149.dkr.ecr.us-east-1.amazonaws.com/sd-dreambooth-finetuning-v2]\n",
      "\n",
      "\u001b[1B09034435: Preparing \n",
      "\u001b[1Bcfb6efe5: Preparing \n",
      "\u001b[1Bd937a56b: Preparing \n",
      "\u001b[1Bf91c83f8: Preparing \n",
      "\u001b[1B229bd75a: Preparing \n",
      "\u001b[1B48c9d354: Preparing \n",
      "\u001b[1Bbac89f31: Preparing \n",
      "\u001b[1B10055e87: Preparing \n",
      "\u001b[1B16943ab1: Preparing \n",
      "\u001b[1Bf59889c2: Preparing \n",
      "\u001b[1B40d160e1: Preparing \n",
      "\u001b[1B34627d9f: Preparing \n",
      "\u001b[1B1fdc41dc: Preparing \n",
      "\u001b[1B49a33433: Preparing \n",
      "\u001b[1B3c0791cb: Preparing \n",
      "\u001b[1B3504c9fd: Preparing \n",
      "\u001b[1Bdfac196e: Preparing \n",
      "\u001b[1B4e364cea: Preparing \n",
      "\u001b[1B3a721f8b: Preparing \n",
      "\u001b[1B1f422c40: Preparing \n",
      "\u001b[1B184f13be: Preparing \n",
      "\u001b[1B4f87f8e7: Preparing \n",
      "\u001b[1B40097ffc: Preparing \n",
      "\u001b[1B88890620: Preparing \n",
      "\u001b[1Bbfa15408: Preparing \n",
      "\u001b[1B0648b8c6: Preparing \n",
      "\u001b[1Ba50e7b38: Preparing \n",
      "\u001b[24B29bd75a: Pushed   33.73MB/33.65MB\u001b[24A\u001b[2K\u001b[24A\u001b[2K\u001b[24A\u001b[2K\u001b[27A\u001b[2K\u001b[23A\u001b[2K\u001b[18A\u001b[2K\u001b[13A\u001b[2K\u001b[10A\u001b[2K\u001b[7A\u001b[2K\u001b[3A\u001b[2K\u001b[24A\u001b[2K\u001b[24A\u001b[2K\u001b[24A\u001b[2K\u001b[24A\u001b[2K\u001b[24A\u001b[2K\u001b[24A\u001b[2K\u001b[24A\u001b[2K\u001b[24A\u001b[2K\u001b[24A\u001b[2K\u001b[24A\u001b[2Klatest: digest: sha256:49d4fe0a26e63d2317cab0c81d50437e99f536594c4477866f5fd00701b2e5ab size: 6215\n"
     ]
    }
   ],
   "source": [
    "!./build_push.sh"
   ]
  },
  {
   "cell_type": "markdown",
   "id": "1d843895",
   "metadata": {
    "pycharm": {
     "name": "#%% md\n"
    }
   },
   "source": [
    "#### 3. Fine-tuning \n",
    "\n",
    "   * image_uri: docker image ecr URI\n",
    "   * instance_type: training job instance , prefere ml.g4dn.xlarge, ml.g5.xlarge\n",
    "   * class_prompt: class prompt\n",
    "   * instance_prompt: your image key prompt\n",
    "   * model_name: pretrained_model \n",
    "   "
   ]
  },
  {
   "cell_type": "code",
   "execution_count": 39,
   "id": "32ad6cd8-eece-43d2-b4c8-b210c63b7833",
   "metadata": {
    "pycharm": {
     "name": "#%%\n"
    },
    "tags": []
   },
   "outputs": [
    {
     "name": "stdout",
     "output_type": "stream",
     "text": [
      "model_name aws-trained-dreambooth-model\n",
      "mixed_precision fp16\n",
      "pretrained_model_name_or_path runwayml/stable-diffusion-v1-5\n",
      "instance_data_dir /opt/ml/input/data/images/\n",
      "class_data_dir /opt/ml/input/data/class_images/\n",
      "with_prior_preservation False\n",
      "models_path /opt/ml/model/\n",
      "instance_prompt photo\\ of\\ zwx\\  man\n",
      "class_prompt photo\\ of\\ a\\ man\n",
      "resolution 512\n",
      "train_batch_size 1\n",
      "sample_batch_size 1\n",
      "gradient_accumulation_steps 1\n",
      "learning_rate 2e-06\n",
      "lr_scheduler constant\n",
      "lr_warmup_steps 0\n",
      "num_class_images 50\n",
      "max_train_steps 10\n",
      "save_steps 300\n",
      "attention xformers\n",
      "prior_loss_weight 0.5\n",
      "use_ema True\n",
      "train_text_encoder False\n",
      "not_cache_latents True\n",
      "gradient_checkpointing True\n",
      "save_use_epochs False\n",
      "use_8bit_adam False\n",
      "s3_output s3://sagemaker-us-east-1-462188225149/dreambooth/trained_models\n"
     ]
    }
   ],
   "source": [
    "import json\n",
    "def json_encode_hyperparameters(hyperparameters):\n",
    "    for (k, v) in hyperparameters.items():\n",
    "        print(k, v)\n",
    "    \n",
    "    return {k: json.dumps(v) for (k, v) in hyperparameters.items()}\n",
    "\n",
    "\n",
    "\n",
    "\n",
    "image_uri = f'{account_id}.dkr.ecr.{region_name}.amazonaws.com/sd-dreambooth-finetuning-v2'\n",
    "instance_type = 'ml.g4dn.2xlarge'\n",
    "\n",
    "instance_prompt=\"photo\\ of\\ zwx\\  man\"\n",
    "class_prompt=\"photo\\ of\\ a\\ man\"\n",
    "s3_model_output_location='s3://{}/{}/{}'.format(bucket, 'dreambooth', 'trained_models')\n",
    "model_name=\"runwayml/stable-diffusion-v1-5\"\n",
    "# model_name=\"SG161222/Realistic_Vision_V1.4\"\n",
    "instance_dir=\"/opt/ml/input/data/images/\"\n",
    "class_dir=\"/opt/ml/input/data/class_images/\"\n",
    "\n",
    "\n",
    "\n",
    "environment = {\n",
    "    'PYTORCH_CUDA_ALLOC_CONF':'max_split_size_mb:32',\n",
    "    'LD_LIBRARY_PATH':\"${LD_LIBRARY_PATH}:/opt/conda/lib/\"\n",
    "}\n",
    "\n",
    "hyperparameters = {\n",
    "                    'model_name':'aws-trained-dreambooth-model',\n",
    "                    'mixed_precision':'fp16',\n",
    "                    'pretrained_model_name_or_path': model_name, \n",
    "                    'instance_data_dir':instance_dir,\n",
    "                    'class_data_dir':class_dir,\n",
    "                    'with_prior_preservation':False,\n",
    "                    'models_path': '/opt/ml/model/',\n",
    "                    'instance_prompt': instance_prompt, \n",
    "                    'class_prompt':class_prompt,\n",
    "                    'resolution':512,\n",
    "                    'train_batch_size':1,\n",
    "                    'sample_batch_size': 1,\n",
    "                    'gradient_accumulation_steps':1,\n",
    "                    'learning_rate':2e-06,\n",
    "                    'lr_scheduler':'constant',\n",
    "                    'lr_warmup_steps':0,\n",
    "                    'num_class_images':50,\n",
    "                    'max_train_steps':10,\n",
    "                    'save_steps':300,\n",
    "                    'attention':'xformers',\n",
    "                    'prior_loss_weight': 0.5,\n",
    "                    'use_ema':True,\n",
    "                    'train_text_encoder':False,\n",
    "                    'not_cache_latents':True,\n",
    "                    'gradient_checkpointing':True,\n",
    "                    'save_use_epochs': False,\n",
    "                    'use_8bit_adam': False,\n",
    "                    's3_output': s3_model_output_location\n",
    "}\n",
    "\n",
    "hyperparameters = json_encode_hyperparameters(hyperparameters)\n",
    "\n"
   ]
  },
  {
   "cell_type": "markdown",
   "id": "9c569c81",
   "metadata": {
    "pycharm": {
     "name": "#%% md\n"
    }
   },
   "source": [
    "   * Create training job "
   ]
  },
  {
   "cell_type": "code",
   "execution_count": 40,
   "id": "744ec9cb",
   "metadata": {
    "collapsed": true,
    "jupyter": {
     "outputs_hidden": true
    },
    "pycharm": {
     "name": "#%%\n"
    },
    "tags": []
   },
   "outputs": [
    {
     "name": "stderr",
     "output_type": "stream",
     "text": [
      "INFO:sagemaker:Creating training-job with name: sd-dreambooth-finetuning-v2-2023-04-01-12-38-45-038\n"
     ]
    },
    {
     "name": "stdout",
     "output_type": "stream",
     "text": [
      "2023-04-01 12:38:45 Starting - Starting the training job...\n",
      "2023-04-01 12:39:02 Starting - Preparing the instances for training......\n",
      "2023-04-01 12:40:12 Downloading - Downloading input data\n",
      "2023-04-01 12:40:12 Training - Downloading the training image.................................\n",
      "2023-04-01 12:45:23 Training - Training image download completed. Training in progress..\u001b[34m2023-04-01 12:45:50,508 sagemaker-training-toolkit INFO     No Neurons detected (normal if no neurons installed)\u001b[0m\n",
      "\u001b[34m2023-04-01 12:45:50,539 sagemaker-training-toolkit INFO     No Neurons detected (normal if no neurons installed)\u001b[0m\n",
      "\u001b[34m2023-04-01 12:45:50,569 sagemaker-training-toolkit INFO     No Neurons detected (normal if no neurons installed)\u001b[0m\n",
      "\u001b[34m2023-04-01 12:45:50,580 sagemaker-training-toolkit INFO     Invoking user script\u001b[0m\n",
      "\u001b[34mTraining Env:\u001b[0m\n",
      "\u001b[34m{\n",
      "    \"additional_framework_parameters\": {},\n",
      "    \"channel_input_dirs\": {\n",
      "        \"images\": \"/opt/ml/input/data/images\"\n",
      "    },\n",
      "    \"current_host\": \"algo-1\",\n",
      "    \"current_instance_group\": \"homogeneousCluster\",\n",
      "    \"current_instance_group_hosts\": [\n",
      "        \"algo-1\"\n",
      "    ],\n",
      "    \"current_instance_type\": \"ml.g4dn.2xlarge\",\n",
      "    \"distribution_hosts\": [],\n",
      "    \"distribution_instance_groups\": [],\n",
      "    \"framework_module\": null,\n",
      "    \"hosts\": [\n",
      "        \"algo-1\"\n",
      "    ],\n",
      "    \"hyperparameters\": {\n",
      "        \"attention\": \"xformers\",\n",
      "        \"class_data_dir\": \"/opt/ml/input/data/class_images/\",\n",
      "        \"class_prompt\": \"photo\\\\ of\\\\ a\\\\ man\",\n",
      "        \"gradient_accumulation_steps\": 1,\n",
      "        \"gradient_checkpointing\": true,\n",
      "        \"instance_data_dir\": \"/opt/ml/input/data/images/\",\n",
      "        \"instance_prompt\": \"photo\\\\ of\\\\ zwx\\\\  man\",\n",
      "        \"learning_rate\": 2e-06,\n",
      "        \"lr_scheduler\": \"constant\",\n",
      "        \"lr_warmup_steps\": 0,\n",
      "        \"max_train_steps\": 10,\n",
      "        \"mixed_precision\": \"fp16\",\n",
      "        \"model_name\": \"aws-trained-dreambooth-model\",\n",
      "        \"models_path\": \"/opt/ml/model/\",\n",
      "        \"not_cache_latents\": true,\n",
      "        \"num_class_images\": 50,\n",
      "        \"pretrained_model_name_or_path\": \"runwayml/stable-diffusion-v1-5\",\n",
      "        \"prior_loss_weight\": 0.5,\n",
      "        \"resolution\": 512,\n",
      "        \"s3_output\": \"s3://sagemaker-us-east-1-462188225149/dreambooth/trained_models\",\n",
      "        \"sample_batch_size\": 1,\n",
      "        \"save_steps\": 300,\n",
      "        \"save_use_epochs\": false,\n",
      "        \"train_batch_size\": 1,\n",
      "        \"train_text_encoder\": false,\n",
      "        \"use_8bit_adam\": false,\n",
      "        \"use_ema\": true,\n",
      "        \"with_prior_preservation\": false\n",
      "    },\n",
      "    \"input_config_dir\": \"/opt/ml/input/config\",\n",
      "    \"input_data_config\": {\n",
      "        \"images\": {\n",
      "            \"TrainingInputMode\": \"File\",\n",
      "            \"S3DistributionType\": \"FullyReplicated\",\n",
      "            \"RecordWrapperType\": \"None\"\n",
      "        }\n",
      "    },\n",
      "    \"input_dir\": \"/opt/ml/input\",\n",
      "    \"instance_groups\": [\n",
      "        \"homogeneousCluster\"\n",
      "    ],\n",
      "    \"instance_groups_dict\": {\n",
      "        \"homogeneousCluster\": {\n",
      "            \"instance_group_name\": \"homogeneousCluster\",\n",
      "            \"instance_type\": \"ml.g4dn.2xlarge\",\n",
      "            \"hosts\": [\n",
      "                \"algo-1\"\n",
      "            ]\n",
      "        }\n",
      "    },\n",
      "    \"is_hetero\": false,\n",
      "    \"is_master\": true,\n",
      "    \"is_modelparallel_enabled\": null,\n",
      "    \"is_smddpmprun_installed\": false,\n",
      "    \"job_name\": \"sd-dreambooth-finetuning-v2-2023-04-01-12-38-45-038\",\n",
      "    \"log_level\": 20,\n",
      "    \"master_hostname\": \"algo-1\",\n",
      "    \"model_dir\": \"/opt/ml/model\",\n",
      "    \"module_dir\": \"/opt/ml/code\",\n",
      "    \"module_name\": \"train_dreambooth\",\n",
      "    \"network_interface_name\": \"eth0\",\n",
      "    \"num_cpus\": 8,\n",
      "    \"num_gpus\": 1,\n",
      "    \"num_neurons\": 0,\n",
      "    \"output_data_dir\": \"/opt/ml/output/data\",\n",
      "    \"output_dir\": \"/opt/ml/output\",\n",
      "    \"output_intermediate_dir\": \"/opt/ml/output/intermediate\",\n",
      "    \"resource_config\": {\n",
      "        \"current_host\": \"algo-1\",\n",
      "        \"current_instance_type\": \"ml.g4dn.2xlarge\",\n",
      "        \"current_group_name\": \"homogeneousCluster\",\n",
      "        \"hosts\": [\n",
      "            \"algo-1\"\n",
      "        ],\n",
      "        \"instance_groups\": [\n",
      "            {\n",
      "                \"instance_group_name\": \"homogeneousCluster\",\n",
      "                \"instance_type\": \"ml.g4dn.2xlarge\",\n",
      "                \"hosts\": [\n",
      "                    \"algo-1\"\n",
      "                ]\n",
      "            }\n",
      "        ],\n",
      "        \"network_interface_name\": \"eth0\"\n",
      "    },\n",
      "    \"user_entry_point\": \"train_dreambooth.py\"\u001b[0m\n",
      "\u001b[34m}\u001b[0m\n",
      "\u001b[34mEnvironment variables:\u001b[0m\n",
      "\u001b[34mSM_HOSTS=[\"algo-1\"]\u001b[0m\n",
      "\u001b[34mSM_NETWORK_INTERFACE_NAME=eth0\u001b[0m\n",
      "\u001b[34mSM_HPS={\"attention\":\"xformers\",\"class_data_dir\":\"/opt/ml/input/data/class_images/\",\"class_prompt\":\"photo\\\\ of\\\\ a\\\\ man\",\"gradient_accumulation_steps\":1,\"gradient_checkpointing\":true,\"instance_data_dir\":\"/opt/ml/input/data/images/\",\"instance_prompt\":\"photo\\\\ of\\\\ zwx\\\\  man\",\"learning_rate\":2e-06,\"lr_scheduler\":\"constant\",\"lr_warmup_steps\":0,\"max_train_steps\":10,\"mixed_precision\":\"fp16\",\"model_name\":\"aws-trained-dreambooth-model\",\"models_path\":\"/opt/ml/model/\",\"not_cache_latents\":true,\"num_class_images\":50,\"pretrained_model_name_or_path\":\"runwayml/stable-diffusion-v1-5\",\"prior_loss_weight\":0.5,\"resolution\":512,\"s3_output\":\"s3://sagemaker-us-east-1-462188225149/dreambooth/trained_models\",\"sample_batch_size\":1,\"save_steps\":300,\"save_use_epochs\":false,\"train_batch_size\":1,\"train_text_encoder\":false,\"use_8bit_adam\":false,\"use_ema\":true,\"with_prior_preservation\":false}\u001b[0m\n",
      "\u001b[34mSM_USER_ENTRY_POINT=train_dreambooth.py\u001b[0m\n",
      "\u001b[34mSM_FRAMEWORK_PARAMS={}\u001b[0m\n",
      "\u001b[34mSM_RESOURCE_CONFIG={\"current_group_name\":\"homogeneousCluster\",\"current_host\":\"algo-1\",\"current_instance_type\":\"ml.g4dn.2xlarge\",\"hosts\":[\"algo-1\"],\"instance_groups\":[{\"hosts\":[\"algo-1\"],\"instance_group_name\":\"homogeneousCluster\",\"instance_type\":\"ml.g4dn.2xlarge\"}],\"network_interface_name\":\"eth0\"}\u001b[0m\n",
      "\u001b[34mSM_INPUT_DATA_CONFIG={\"images\":{\"RecordWrapperType\":\"None\",\"S3DistributionType\":\"FullyReplicated\",\"TrainingInputMode\":\"File\"}}\u001b[0m\n",
      "\u001b[34mSM_OUTPUT_DATA_DIR=/opt/ml/output/data\u001b[0m\n",
      "\u001b[34mSM_CHANNELS=[\"images\"]\u001b[0m\n",
      "\u001b[34mSM_CURRENT_HOST=algo-1\u001b[0m\n",
      "\u001b[34mSM_CURRENT_INSTANCE_TYPE=ml.g4dn.2xlarge\u001b[0m\n",
      "\u001b[34mSM_CURRENT_INSTANCE_GROUP=homogeneousCluster\u001b[0m\n",
      "\u001b[34mSM_CURRENT_INSTANCE_GROUP_HOSTS=[\"algo-1\"]\u001b[0m\n",
      "\u001b[34mSM_INSTANCE_GROUPS=[\"homogeneousCluster\"]\u001b[0m\n",
      "\u001b[34mSM_INSTANCE_GROUPS_DICT={\"homogeneousCluster\":{\"hosts\":[\"algo-1\"],\"instance_group_name\":\"homogeneousCluster\",\"instance_type\":\"ml.g4dn.2xlarge\"}}\u001b[0m\n",
      "\u001b[34mSM_DISTRIBUTION_INSTANCE_GROUPS=[]\u001b[0m\n",
      "\u001b[34mSM_IS_HETERO=false\u001b[0m\n",
      "\u001b[34mSM_MODULE_NAME=train_dreambooth\u001b[0m\n",
      "\u001b[34mSM_LOG_LEVEL=20\u001b[0m\n",
      "\u001b[34mSM_FRAMEWORK_MODULE=\u001b[0m\n",
      "\u001b[34mSM_INPUT_DIR=/opt/ml/input\u001b[0m\n",
      "\u001b[34mSM_INPUT_CONFIG_DIR=/opt/ml/input/config\u001b[0m\n",
      "\u001b[34mSM_OUTPUT_DIR=/opt/ml/output\u001b[0m\n",
      "\u001b[34mSM_NUM_CPUS=8\u001b[0m\n",
      "\u001b[34mSM_NUM_GPUS=1\u001b[0m\n",
      "\u001b[34mSM_NUM_NEURONS=0\u001b[0m\n",
      "\u001b[34mSM_MODEL_DIR=/opt/ml/model\u001b[0m\n",
      "\u001b[34mSM_MODULE_DIR=/opt/ml/code\u001b[0m\n",
      "\u001b[34mSM_TRAINING_ENV={\"additional_framework_parameters\":{},\"channel_input_dirs\":{\"images\":\"/opt/ml/input/data/images\"},\"current_host\":\"algo-1\",\"current_instance_group\":\"homogeneousCluster\",\"current_instance_group_hosts\":[\"algo-1\"],\"current_instance_type\":\"ml.g4dn.2xlarge\",\"distribution_hosts\":[],\"distribution_instance_groups\":[],\"framework_module\":null,\"hosts\":[\"algo-1\"],\"hyperparameters\":{\"attention\":\"xformers\",\"class_data_dir\":\"/opt/ml/input/data/class_images/\",\"class_prompt\":\"photo\\\\ of\\\\ a\\\\ man\",\"gradient_accumulation_steps\":1,\"gradient_checkpointing\":true,\"instance_data_dir\":\"/opt/ml/input/data/images/\",\"instance_prompt\":\"photo\\\\ of\\\\ zwx\\\\  man\",\"learning_rate\":2e-06,\"lr_scheduler\":\"constant\",\"lr_warmup_steps\":0,\"max_train_steps\":10,\"mixed_precision\":\"fp16\",\"model_name\":\"aws-trained-dreambooth-model\",\"models_path\":\"/opt/ml/model/\",\"not_cache_latents\":true,\"num_class_images\":50,\"pretrained_model_name_or_path\":\"runwayml/stable-diffusion-v1-5\",\"prior_loss_weight\":0.5,\"resolution\":512,\"s3_output\":\"s3://sagemaker-us-east-1-462188225149/dreambooth/trained_models\",\"sample_batch_size\":1,\"save_steps\":300,\"save_use_epochs\":false,\"train_batch_size\":1,\"train_text_encoder\":false,\"use_8bit_adam\":false,\"use_ema\":true,\"with_prior_preservation\":false},\"input_config_dir\":\"/opt/ml/input/config\",\"input_data_config\":{\"images\":{\"RecordWrapperType\":\"None\",\"S3DistributionType\":\"FullyReplicated\",\"TrainingInputMode\":\"File\"}},\"input_dir\":\"/opt/ml/input\",\"instance_groups\":[\"homogeneousCluster\"],\"instance_groups_dict\":{\"homogeneousCluster\":{\"hosts\":[\"algo-1\"],\"instance_group_name\":\"homogeneousCluster\",\"instance_type\":\"ml.g4dn.2xlarge\"}},\"is_hetero\":false,\"is_master\":true,\"is_modelparallel_enabled\":null,\"is_smddpmprun_installed\":false,\"job_name\":\"sd-dreambooth-finetuning-v2-2023-04-01-12-38-45-038\",\"log_level\":20,\"master_hostname\":\"algo-1\",\"model_dir\":\"/opt/ml/model\",\"module_dir\":\"/opt/ml/code\",\"module_name\":\"train_dreambooth\",\"network_interface_name\":\"eth0\",\"num_cpus\":8,\"num_gpus\":1,\"num_neurons\":0,\"output_data_dir\":\"/opt/ml/output/data\",\"output_dir\":\"/opt/ml/output\",\"output_intermediate_dir\":\"/opt/ml/output/intermediate\",\"resource_config\":{\"current_group_name\":\"homogeneousCluster\",\"current_host\":\"algo-1\",\"current_instance_type\":\"ml.g4dn.2xlarge\",\"hosts\":[\"algo-1\"],\"instance_groups\":[{\"hosts\":[\"algo-1\"],\"instance_group_name\":\"homogeneousCluster\",\"instance_type\":\"ml.g4dn.2xlarge\"}],\"network_interface_name\":\"eth0\"},\"user_entry_point\":\"train_dreambooth.py\"}\u001b[0m\n",
      "\u001b[34mSM_USER_ARGS=[\"--attention\",\"xformers\",\"--class_data_dir\",\"/opt/ml/input/data/class_images/\",\"--class_prompt\",\"photo\\\\ of\\\\ a\\\\ man\",\"--gradient_accumulation_steps\",\"1\",\"--gradient_checkpointing\",\"True\",\"--instance_data_dir\",\"/opt/ml/input/data/images/\",\"--instance_prompt\",\"photo\\\\ of\\\\ zwx\\\\  man\",\"--learning_rate\",\"2e-06\",\"--lr_scheduler\",\"constant\",\"--lr_warmup_steps\",\"0\",\"--max_train_steps\",\"10\",\"--mixed_precision\",\"fp16\",\"--model_name\",\"aws-trained-dreambooth-model\",\"--models_path\",\"/opt/ml/model/\",\"--not_cache_latents\",\"True\",\"--num_class_images\",\"50\",\"--pretrained_model_name_or_path\",\"runwayml/stable-diffusion-v1-5\",\"--prior_loss_weight\",\"0.5\",\"--resolution\",\"512\",\"--s3_output\",\"s3://sagemaker-us-east-1-462188225149/dreambooth/trained_models\",\"--sample_batch_size\",\"1\",\"--save_steps\",\"300\",\"--save_use_epochs\",\"False\",\"--train_batch_size\",\"1\",\"--train_text_encoder\",\"False\",\"--use_8bit_adam\",\"False\",\"--use_ema\",\"True\",\"--with_prior_preservation\",\"False\"]\u001b[0m\n",
      "\u001b[34mSM_OUTPUT_INTERMEDIATE_DIR=/opt/ml/output/intermediate\u001b[0m\n",
      "\u001b[34mSM_CHANNEL_IMAGES=/opt/ml/input/data/images\u001b[0m\n",
      "\u001b[34mSM_HP_ATTENTION=xformers\u001b[0m\n",
      "\u001b[34mSM_HP_CLASS_DATA_DIR=/opt/ml/input/data/class_images/\u001b[0m\n",
      "\u001b[34mSM_HP_CLASS_PROMPT=photo\\ of\\ a\\ man\u001b[0m\n",
      "\u001b[34mSM_HP_GRADIENT_ACCUMULATION_STEPS=1\u001b[0m\n",
      "\u001b[34mSM_HP_GRADIENT_CHECKPOINTING=true\u001b[0m\n",
      "\u001b[34mSM_HP_INSTANCE_DATA_DIR=/opt/ml/input/data/images/\u001b[0m\n",
      "\u001b[34mSM_HP_INSTANCE_PROMPT=photo\\ of\\ zwx\\  man\u001b[0m\n",
      "\u001b[34mSM_HP_LEARNING_RATE=2e-06\u001b[0m\n",
      "\u001b[34mSM_HP_LR_SCHEDULER=constant\u001b[0m\n",
      "\u001b[34mSM_HP_LR_WARMUP_STEPS=0\u001b[0m\n",
      "\u001b[34mSM_HP_MAX_TRAIN_STEPS=10\u001b[0m\n",
      "\u001b[34mSM_HP_MIXED_PRECISION=fp16\u001b[0m\n",
      "\u001b[34mSM_HP_MODEL_NAME=aws-trained-dreambooth-model\u001b[0m\n",
      "\u001b[34mSM_HP_MODELS_PATH=/opt/ml/model/\u001b[0m\n",
      "\u001b[34mSM_HP_NOT_CACHE_LATENTS=true\u001b[0m\n",
      "\u001b[34mSM_HP_NUM_CLASS_IMAGES=50\u001b[0m\n",
      "\u001b[34mSM_HP_PRETRAINED_MODEL_NAME_OR_PATH=runwayml/stable-diffusion-v1-5\u001b[0m\n",
      "\u001b[34mSM_HP_PRIOR_LOSS_WEIGHT=0.5\u001b[0m\n",
      "\u001b[34mSM_HP_RESOLUTION=512\u001b[0m\n",
      "\u001b[34mSM_HP_S3_OUTPUT=s3://sagemaker-us-east-1-462188225149/dreambooth/trained_models\u001b[0m\n",
      "\u001b[34mSM_HP_SAMPLE_BATCH_SIZE=1\u001b[0m\n",
      "\u001b[34mSM_HP_SAVE_STEPS=300\u001b[0m\n",
      "\u001b[34mSM_HP_SAVE_USE_EPOCHS=false\u001b[0m\n",
      "\u001b[34mSM_HP_TRAIN_BATCH_SIZE=1\u001b[0m\n",
      "\u001b[34mSM_HP_TRAIN_TEXT_ENCODER=false\u001b[0m\n",
      "\u001b[34mSM_HP_USE_8BIT_ADAM=false\u001b[0m\n",
      "\u001b[34mSM_HP_USE_EMA=true\u001b[0m\n",
      "\u001b[34mSM_HP_WITH_PRIOR_PRESERVATION=false\u001b[0m\n",
      "\u001b[34mPYTHONPATH=/opt/ml/code:/opt/conda/bin:/opt/conda/lib/python39.zip:/opt/conda/lib/python3.9:/opt/conda/lib/python3.9/lib-dynload:/opt/conda/lib/python3.9/site-packages:/opt/ml/code/repositories/xformers\u001b[0m\n",
      "\u001b[34mInvoking script with the following command:\u001b[0m\n",
      "\u001b[34m/opt/conda/bin/python train_dreambooth.py --attention xformers --class_data_dir /opt/ml/input/data/class_images/ --class_prompt photo\\ of\\ a\\ man --gradient_accumulation_steps 1 --gradient_checkpointing True --instance_data_dir /opt/ml/input/data/images/ --instance_prompt photo\\ of\\ zwx\\  man --learning_rate 2e-06 --lr_scheduler constant --lr_warmup_steps 0 --max_train_steps 10 --mixed_precision fp16 --model_name aws-trained-dreambooth-model --models_path /opt/ml/model/ --not_cache_latents True --num_class_images 50 --pretrained_model_name_or_path runwayml/stable-diffusion-v1-5 --prior_loss_weight 0.5 --resolution 512 --s3_output s3://sagemaker-us-east-1-462188225149/dreambooth/trained_models --sample_batch_size 1 --save_steps 300 --save_use_epochs False --train_batch_size 1 --train_text_encoder False --use_8bit_adam False --use_ema True --with_prior_preservation False\u001b[0m\n",
      "\u001b[34m2023-04-01 12:45:50,581 sagemaker-training-toolkit INFO     Exceptions not imported for SageMaker Debugger as it is not installed.\u001b[0m\n",
      "\u001b[34m2023-04-01 12:45:50,581 sagemaker-training-toolkit INFO     Exceptions not imported for SageMaker TF as Tensorflow is not installed.\u001b[0m\n",
      "\u001b[34m/opt/conda/lib/python3.9/site-packages/transformers/generation_utils.py:24: FutureWarning: Importing `GenerationMixin` from `src/transformers/generation_utils.py` is deprecated and will be removed in Transformers v5. Import as `from transformers import GenerationMixin` instead.\n",
      "  warnings.warn(\u001b[0m\n",
      "\u001b[34mPatching transformers to fix kwargs errors.\u001b[0m\n",
      "\u001b[34m{'model_name': 'aws-trained-dreambooth-model', 's3_output': 's3://sagemaker-us-east-1-462188225149/dreambooth/trained_models', 'models_path': '/opt/ml/model/', 'use_lora': False, 'use_cpu': False, 'lora_models_path': None, 'pretrained_model_name_or_path': 'runwayml/stable-diffusion-v1-5', 'pretrained_vae_name_or_path': None, 'revision': None, 'tokenizer_name': None, 'instance_data_dir': '/opt/ml/input/data/images/', 'class_data_dir': '/opt/ml/input/data/class_images/', 'instance_prompt': 'photo\\\\ of\\\\ zwx\\\\  man', 'class_prompt': 'photo\\\\ of\\\\ a\\\\ man', 'pad_tokens': False, 'with_prior_preservation': True, 'save_use_global_counts': False, 'save_use_epochs': True, 'prior_loss_weight': 0.5, 'num_class_images': 50, 'output_dir': 'text-inversion-model', 'seed': -1, 'resolution': 512, 'center_crop': False, 'train_text_encoder': 'False', 'train_batch_size': 1, 'sample_batch_size': 1, 'num_train_epochs': 1, 'max_train_steps': 10, 'epoch': 0, 'save_steps': 300, 'gradient_accumulation_steps': 1, 'gradient_checkpointing': True, 'learning_rate': 2e-06, 'scale_lr': False, 'lr_scheduler': 'constant', 'lr_warmup_steps': 0, 'use_8bit_adam': True, 'adam_beta1': 0.9, 'adam_beta2': 0.999, 'adam_weight_decay': 0.01, 'adam_epsilon': 1e-08, 'push_to_hub': False, 'hub_token': None, 'hub_model_id': None, 'logging_dir': 'logs', 'mixed_precision': 'fp16', 'not_cache_latents': 'True', 'hflip': False, 'local_rank': -1, 'concepts_list': [{'instance_prompt': 'photo\\\\ of\\\\ zwx\\\\  man', 'class_prompt': 'photo\\\\ of\\\\ a\\\\ man', 'instance_data_dir': '/opt/ml/input/data/images/', 'class_data_dir': '/opt/ml/input/data/class_images/', 'num_class_images': 50, 'instance_token': '', 'class_token': '', 'class_negative_prompt': '', 'class_guidance_scale': 7.5, 'class_infer_steps': 60}], 'use_ema': True, 'max_token_length': 75, 'half_model': False, 'attention': 'xformers', 'shuffle_tags': False}\u001b[0m\n",
      "\u001b[34mReplace CrossAttention.forward to use xformers\u001b[0m\n",
      "\u001b[34mChecking concept: {'instance_prompt': 'photo\\\\ of\\\\ zwx\\\\  man', 'class_prompt': 'photo\\\\ of\\\\ a\\\\ man', 'instance_data_dir': '/opt/ml/input/data/images/', 'class_data_dir': '/opt/ml/input/data/class_images/', 'num_class_images': 50, 'instance_token': '', 'class_token': '', 'class_negative_prompt': '', 'class_guidance_scale': 7.5, 'class_infer_steps': 60}\u001b[0m\n",
      "\u001b[34mConcept requires 50 images.\u001b[0m\n",
      "\u001b[34mClass dir /opt/ml/input/data/class_images has 0 images.\u001b[0m\n",
      "\u001b[34m#015Downloading (…)_model.safetensors\";:   0%|          | 0.00/335M [00:00<?, ?B/s]#015Downloading (…)_model.safetensors\";:  13%|█▎        | 41.9M/335M [00:00<00:00, 352MB/s]#015Downloading (…)_model.safetensors\";:  25%|██▌       | 83.9M/335M [00:00<00:00, 373MB/s]#015Downloading (…)_model.safetensors\";:  38%|███▊      | 126M/335M [00:00<00:00, 389MB/s] #015Downloading (…)_model.safetensors\";:  53%|█████▎    | 178M/335M [00:00<00:00, 420MB/s]#015Downloading (…)_model.safetensors\";:  69%|██████▉   | 231M/335M [00:00<00:00, 437MB/s]#015Downloading (…)_model.safetensors\";:  85%|████████▍ | 283M/335M [00:00<00:00, 429MB/s]#015Downloading (…)_model.safetensors\";: 100%|██████████| 335M/335M [00:00<00:00, 384MB/s]#015Downloading (…)_model.safetensors\";: 100%|██████████| 335M/335M [00:00<00:00, 395MB/s]\u001b[0m\n",
      "\u001b[34m#015Downloading (…)main/vae/config.json:   0%|          | 0.00/547 [00:00<?, ?B/s]#015Downloading (…)main/vae/config.json: 100%|██████████| 547/547 [00:00<00:00, 85.3kB/s]\u001b[0m\n",
      "\u001b[34m#015Downloading (…)ain/model_index.json:   0%|          | 0.00/543 [00:00<?, ?B/s]#015Downloading (…)ain/model_index.json: 100%|██████████| 543/543 [00:00<00:00, 84.2kB/s]\u001b[0m\n",
      "\u001b[34m#015Fetching 15 files:   0%|          | 0/15 [00:00<?, ?it/s]\u001b[0m\n",
      "\u001b[34m#015Downloading (…)\"model.safetensors\";:   0%|          | 0.00/1.22G [00:00<?, ?B/s]#033[A\u001b[0m\n",
      "\u001b[34m#015Downloading (…)cial_tokens_map.json:   0%|          | 0.00/472 [00:00<?, ?B/s]#033[A#033[A\u001b[0m\n",
      "\u001b[34m#015Downloading (…)cheduler_config.json:   0%|          | 0.00/308 [00:00<?, ?B/s]#033[A#033[A#033[A#015Downloading (…)cial_tokens_map.json: 100%|██████████| 472/472 [00:00<00:00, 32.6kB/s]\u001b[0m\n",
      "\u001b[34m#015Downloading (…)cheduler_config.json: 100%|██████████| 308/308 [00:00<00:00, 35.3kB/s]\u001b[0m\n",
      "\u001b[34m#015Downloading (…)\"model.safetensors\";:   0%|          | 0.00/492M [00:00<?, ?B/s]#033[A#033[A\u001b[0m\n",
      "\u001b[34m#015Downloading (…)tokenizer/merges.txt:   0%|          | 0.00/525k [00:00<?, ?B/s]#033[A#033[A#033[A#015Downloading (…)tokenizer/merges.txt: 100%|██████████| 525k/525k [00:00<00:00, 43.9MB/s]\u001b[0m\n",
      "\u001b[34m#015Downloading (…)\"model.safetensors\";:   3%|▎         | 31.5M/1.22G [00:00<00:04, 240MB/s]#033[A\u001b[0m\n",
      "\u001b[34m#015Downloading (…)_encoder/config.json:   0%|          | 0.00/617 [00:00<?, ?B/s]#033[A#033[A#033[A\u001b[0m\n",
      "\u001b[34m#015Downloading (…)_checker/config.json:   0%|          | 0.00/4.72k [00:00<?, ?B/s]#033[A#033[A#033[A#033[A#015Downloading (…)_encoder/config.json: 100%|██████████| 617/617 [00:00<00:00, 35.7kB/s]\u001b[0m\n",
      "\u001b[34m#015Downloading (…)_checker/config.json: 100%|██████████| 4.72k/4.72k [00:00<00:00, 469kB/s]\u001b[0m\n",
      "\u001b[34m#015Downloading (…)rocessor_config.json:   0%|          | 0.00/342 [00:00<?, ?B/s]#033[A#033[A#033[A#015Downloading (…)rocessor_config.json: 100%|██████████| 342/342 [00:00<00:00, 39.0kB/s]\u001b[0m\n",
      "\u001b[34m#015Fetching 15 files:   7%|▋         | 1/15 [00:00<00:03,  4.37it/s]\u001b[0m\n",
      "\u001b[34m#015Downloading (…)\"model.safetensors\";:   4%|▍         | 21.0M/492M [00:00<00:03, 148MB/s]#033[A#033[A\u001b[0m\n",
      "\u001b[34m#015Downloading (…)819/unet/config.json:   0%|          | 0.00/743 [00:00<?, ?B/s]#033[A#033[A#033[A#015Downloading (…)819/unet/config.json: 100%|██████████| 743/743 [00:00<00:00, 310kB/s]\u001b[0m\n",
      "\u001b[34m#015Downloading (…)okenizer_config.json:   0%|          | 0.00/806 [00:00<?, ?B/s]#033[A#033[A#033[A#015Downloading (…)okenizer_config.json: 100%|██████████| 806/806 [00:00<00:00, 332kB/s]\u001b[0m\n",
      "\u001b[34m#015Downloading (…)\"model.safetensors\";:   5%|▌         | 62.9M/1.22G [00:00<00:04, 247MB/s]#033[A\u001b[0m\n",
      "\u001b[34m#015Downloading (…)_model.safetensors\";:   0%|          | 0.00/3.44G [00:00<?, ?B/s]#033[A#033[A#033[A\u001b[0m\n",
      "\u001b[34m#015Downloading (…)\"model.safetensors\";:  11%|█         | 52.4M/492M [00:00<00:01, 230MB/s]#033[A#033[A\u001b[0m\n",
      "\u001b[34m#015Downloading (…)tokenizer/vocab.json:   0%|          | 0.00/1.06M [00:00<?, ?B/s]#033[A#033[A#033[A#033[A#015Downloading (…)tokenizer/vocab.json: 100%|██████████| 1.06M/1.06M [00:00<00:00, 78.3MB/s]\u001b[0m\n",
      "\u001b[34m#015Downloading (…)\"model.safetensors\";:   8%|▊         | 94.4M/1.22G [00:00<00:04, 269MB/s]#033[A\u001b[0m\n",
      "\u001b[34m#015Downloading (…)_model.safetensors\";:   1%|          | 31.5M/3.44G [00:00<00:12, 265MB/s]#033[A#033[A#033[A\u001b[0m\n",
      "\u001b[34m#015Downloading (…)\"model.safetensors\";:  17%|█▋        | 83.9M/492M [00:00<00:01, 246MB/s]#033[A#033[A\u001b[0m\n",
      "\u001b[34m#015Downloading (…)\"model.safetensors\";:  11%|█         | 136M/1.22G [00:00<00:03, 307MB/s] #033[A\u001b[0m\n",
      "\u001b[34m#015Downloading (…)_model.safetensors\";:   2%|▏         | 62.9M/3.44G [00:00<00:11, 285MB/s]#033[A#033[A#033[A\u001b[0m\n",
      "\u001b[34m#015Downloading (…)\"model.safetensors\";:  26%|██▌       | 126M/492M [00:00<00:01, 286MB/s] #033[A#033[A\u001b[0m\n",
      "\u001b[34m#015Downloading (…)\"model.safetensors\";:  15%|█▍        | 178M/1.22G [00:00<00:03, 323MB/s]#033[A\u001b[0m\n",
      "\u001b[34m#015Downloading (…)_model.safetensors\";:   3%|▎         | 94.4M/3.44G [00:00<00:11, 280MB/s]#033[A#033[A#033[A\u001b[0m\n",
      "\u001b[34m#015Downloading (…)\"model.safetensors\";:  34%|███▍      | 168M/492M [00:00<00:01, 299MB/s]#033[A#033[A\u001b[0m\n",
      "\u001b[34m#015Downloading (…)\"model.safetensors\";:  18%|█▊        | 220M/1.22G [00:00<00:02, 334MB/s]#033[A\u001b[0m\n",
      "\u001b[34m#015Downloading (…)_model.safetensors\";:   4%|▍         | 136M/3.44G [00:00<00:10, 300MB/s] #033[A#033[A#033[A\u001b[0m\n",
      "\u001b[34m#015Downloading (…)\"model.safetensors\";:  43%|████▎     | 210M/492M [00:00<00:00, 309MB/s]#033[A#033[A\u001b[0m\n",
      "\u001b[34m#015Downloading (…)\"model.safetensors\";:  22%|██▏       | 262M/1.22G [00:00<00:02, 346MB/s]#033[A\u001b[0m\n",
      "\u001b[34m#015Downloading (…)_model.safetensors\";:   5%|▍         | 168M/3.44G [00:00<00:11, 289MB/s]#033[A#033[A#033[A\u001b[0m\n",
      "\u001b[34m#015Downloading (…)\"model.safetensors\";:  51%|█████     | 252M/492M [00:00<00:00, 314MB/s]#033[A#033[A\u001b[0m\n",
      "\u001b[34m#015Downloading (…)\"model.safetensors\";:  25%|██▌       | 304M/1.22G [00:00<00:02, 354MB/s]#033[A\u001b[0m\n",
      "\u001b[34m#015Downloading (…)_model.safetensors\";:   6%|▌         | 199M/3.44G [00:00<00:11, 279MB/s]#033[A#033[A#033[A\u001b[0m\n",
      "\u001b[34m#015Downloading (…)\"model.safetensors\";:  60%|█████▉    | 294M/492M [00:01<00:00, 318MB/s]#033[A#033[A\u001b[0m\n",
      "\u001b[34m#015Downloading (…)\"model.safetensors\";:  28%|██▊       | 346M/1.22G [00:01<00:02, 345MB/s]#033[A\u001b[0m\n",
      "\u001b[34m#015Downloading (…)_model.safetensors\";:   7%|▋         | 241M/3.44G [00:00<00:10, 303MB/s]#033[A#033[A#033[A\u001b[0m\n",
      "\u001b[34m#015Downloading (…)\"model.safetensors\";:  68%|██████▊   | 336M/492M [00:01<00:00, 325MB/s]#033[A#033[A\u001b[0m\n",
      "\u001b[34m#015Downloading (…)\"model.safetensors\";:  32%|███▏      | 388M/1.22G [00:01<00:02, 341MB/s]#033[A\u001b[0m\n",
      "\u001b[34m#015Downloading (…)_model.safetensors\";:   8%|▊         | 273M/3.44G [00:00<00:10, 302MB/s]#033[A#033[A#033[A\u001b[0m\n",
      "\u001b[34m#015Downloading (…)\"model.safetensors\";:  35%|███▌      | 430M/1.22G [00:01<00:02, 345MB/s]#033[A\u001b[0m\n",
      "\u001b[34m#015Downloading (…)_model.safetensors\";:   9%|▉         | 315M/3.44G [00:01<00:09, 318MB/s]#033[A#033[A#033[A\u001b[0m\n",
      "\u001b[34m#015Downloading (…)\"model.safetensors\";:  77%|███████▋  | 377M/492M [00:01<00:00, 308MB/s]#033[A#033[A\u001b[0m\n",
      "\u001b[34m#015Downloading (…)_model.safetensors\";:  10%|█         | 357M/3.44G [00:01<00:09, 330MB/s]#033[A#033[A#033[A\u001b[0m\n",
      "\u001b[34m#015Downloading (…)\"model.safetensors\";:  39%|███▉      | 472M/1.22G [00:01<00:02, 338MB/s]#033[A\u001b[0m\n",
      "\u001b[34m#015Downloading (…)\"model.safetensors\";:  85%|████████▌ | 419M/492M [00:01<00:00, 316MB/s]#033[A#033[A\u001b[0m\n",
      "\u001b[34m#015Downloading (…)\"model.safetensors\";:  42%|████▏     | 514M/1.22G [00:01<00:02, 344MB/s]#033[A\u001b[0m\n",
      "\u001b[34m#015Downloading (…)_model.safetensors\";:  12%|█▏        | 398M/3.44G [00:01<00:09, 322MB/s]#033[A#033[A#033[A\u001b[0m\n",
      "\u001b[34m#015Downloading (…)\"model.safetensors\";:  94%|█████████▎| 461M/492M [00:01<00:00, 320MB/s]#033[A#033[A#015Downloading (…)\"model.safetensors\";: 100%|██████████| 492M/492M [00:01<00:00, 305MB/s]\u001b[0m\n",
      "\u001b[34m#015Downloading (…)_model.safetensors\";:  13%|█▎        | 440M/3.44G [00:01<00:09, 331MB/s]#033[A#033[A#033[A\u001b[0m\n",
      "\u001b[34m#015Downloading (…)\"model.safetensors\";:  46%|████▌     | 556M/1.22G [00:01<00:01, 333MB/s]#033[A\u001b[0m\n",
      "\u001b[34m#015Downloading (…)\"model.safetensors\";:  49%|████▉     | 598M/1.22G [00:01<00:01, 351MB/s]#033[A\u001b[0m\n",
      "\u001b[34m#015Downloading (…)_model.safetensors\";:  14%|█▍        | 493M/3.44G [00:01<00:08, 353MB/s]#033[A#033[A#033[A\u001b[0m\n",
      "\u001b[34m#015Downloading (…)\"model.safetensors\";:  53%|█████▎    | 650M/1.22G [00:01<00:01, 389MB/s]#033[A\u001b[0m\n",
      "\u001b[34m#015Downloading (…)_model.safetensors\";:  16%|█▌        | 545M/3.44G [00:01<00:07, 394MB/s]#033[A#033[A#033[A\u001b[0m\n",
      "\u001b[34m#015Downloading (…)\"model.safetensors\";:  58%|█████▊    | 703M/1.22G [00:02<00:01, 404MB/s]#033[A\u001b[0m\n",
      "\u001b[34m#015Downloading (…)_model.safetensors\";:  17%|█▋        | 598M/3.44G [00:01<00:06, 414MB/s]#033[A#033[A#033[A\u001b[0m\n",
      "\u001b[34m#015Downloading (…)\"model.safetensors\";:  62%|██████▏   | 755M/1.22G [00:02<00:01, 428MB/s]#033[A\u001b[0m\n",
      "\u001b[34m#015Downloading (…)_model.safetensors\";:  19%|█▉        | 650M/3.44G [00:01<00:06, 399MB/s]#033[A#033[A#033[A\u001b[0m\n",
      "\u001b[34m#015Downloading (…)\"model.safetensors\";:  66%|██████▋   | 807M/1.22G [00:02<00:00, 447MB/s]#033[A\u001b[0m\n",
      "\u001b[34m#015Downloading (…)_model.safetensors\";:  20%|██        | 703M/3.44G [00:02<00:06, 411MB/s]#033[A#033[A#033[A\u001b[0m\n",
      "\u001b[34m#015Downloading (…)\"model.safetensors\";:  71%|███████   | 860M/1.22G [00:02<00:00, 453MB/s]#033[A\u001b[0m\n",
      "\u001b[34m#015Downloading (…)_model.safetensors\";:  22%|██▏       | 744M/3.44G [00:02<00:06, 413MB/s]#033[A#033[A#033[A\u001b[0m\n",
      "\u001b[34m#015Downloading (…)\"model.safetensors\";:  75%|███████▌  | 912M/1.22G [00:02<00:00, 463MB/s]#033[A\u001b[0m\n",
      "\u001b[34m#015Downloading (…)_model.safetensors\";:  23%|██▎       | 797M/3.44G [00:02<00:06, 432MB/s]#033[A#033[A#033[A\u001b[0m\n",
      "\u001b[34m#015Downloading (…)\"model.safetensors\";:  79%|███████▉  | 965M/1.22G [00:02<00:00, 468MB/s]#033[A\u001b[0m\n",
      "\u001b[34m#015Downloading (…)_model.safetensors\";:  25%|██▍       | 849M/3.44G [00:02<00:05, 442MB/s]#033[A#033[A#033[A\u001b[0m\n",
      "\u001b[34m#015Downloading (…)\"model.safetensors\";:  84%|████████▎ | 1.02G/1.22G [00:02<00:00, 431MB/s]#033[A\u001b[0m\n",
      "\u001b[34m#015Downloading (…)_model.safetensors\";:  26%|██▌       | 902M/3.44G [00:02<00:06, 387MB/s]#033[A#033[A#033[A\u001b[0m\n",
      "\u001b[34m#015Downloading (…)\"model.safetensors\";:  88%|████████▊ | 1.07G/1.22G [00:02<00:00, 375MB/s]#033[A\u001b[0m\n",
      "\u001b[34m#015Downloading (…)_model.safetensors\";:  27%|██▋       | 944M/3.44G [00:02<00:06, 384MB/s]#033[A#033[A#033[A\u001b[0m\n",
      "\u001b[34m#015Downloading (…)\"model.safetensors\";:  92%|█████████▏| 1.12G/1.22G [00:03<00:00, 393MB/s]#033[A\u001b[0m\n",
      "\u001b[34m#015Downloading (…)_model.safetensors\";:  29%|██▊       | 986M/3.44G [00:02<00:07, 317MB/s]#033[A#033[A#033[A\u001b[0m\n",
      "\u001b[34m#015Downloading (…)\"model.safetensors\";:  97%|█████████▋| 1.17G/1.22G [00:03<00:00, 413MB/s]#033[A#015Downloading (…)\"model.safetensors\";: 100%|██████████| 1.22G/1.22G [00:03<00:00, 377MB/s]\u001b[0m\n",
      "\u001b[34m#015Fetching 15 files:  27%|██▋       | 4/15 [00:03<00:09,  1.15it/s]\u001b[0m\n",
      "\u001b[34m#015Downloading (…)_model.safetensors\";:  30%|██▉       | 1.03G/3.44G [00:03<00:09, 265MB/s]#033[A#033[A#033[A\u001b[0m\n",
      "\u001b[34m#015Downloading (…)_model.safetensors\";:  31%|███       | 1.06G/3.44G [00:03<00:11, 210MB/s]#033[A#033[A#033[A\u001b[0m\n",
      "\u001b[34m#015Downloading (…)_model.safetensors\";:  32%|███▏      | 1.09G/3.44G [00:03<00:11, 205MB/s]#033[A#033[A#033[A\u001b[0m\n",
      "\u001b[34m#015Downloading (…)_model.safetensors\";:  33%|███▎      | 1.12G/3.44G [00:03<00:11, 199MB/s]#033[A#033[A#033[A\u001b[0m\n",
      "\u001b[34m#015Downloading (…)_model.safetensors\";:  34%|███▎      | 1.15G/3.44G [00:03<00:11, 201MB/s]#033[A#033[A#033[A\u001b[0m\n",
      "\u001b[34m#015Downloading (…)_model.safetensors\";:  34%|███▍      | 1.18G/3.44G [00:03<00:10, 215MB/s]#033[A#033[A#033[A\u001b[0m\n",
      "\u001b[34m#015Downloading (…)_model.safetensors\";:  35%|███▌      | 1.22G/3.44G [00:04<00:10, 207MB/s]#033[A#033[A#033[A\u001b[0m\n",
      "\u001b[34m#015Downloading (…)_model.safetensors\";:  36%|███▋      | 1.25G/3.44G [00:04<00:10, 201MB/s]#033[A#033[A#033[A\u001b[0m\n",
      "\u001b[34m#015Downloading (…)_model.safetensors\";:  37%|███▋      | 1.27G/3.44G [00:04<00:11, 196MB/s]#033[A#033[A#033[A\u001b[0m\n",
      "\u001b[34m#015Downloading (…)_model.safetensors\";:  38%|███▊      | 1.30G/3.44G [00:04<00:10, 209MB/s]#033[A#033[A#033[A\u001b[0m\n",
      "\u001b[34m#015Downloading (…)_model.safetensors\";:  39%|███▊      | 1.33G/3.44G [00:04<00:09, 213MB/s]#033[A#033[A#033[A\u001b[0m\n",
      "\u001b[34m#015Downloading (…)_model.safetensors\";:  40%|███▉      | 1.36G/3.44G [00:04<00:09, 220MB/s]#033[A#033[A#033[A\u001b[0m\n",
      "\u001b[34m#015Downloading (…)_model.safetensors\";:  41%|████      | 1.39G/3.44G [00:04<00:09, 219MB/s]#033[A#033[A#033[A\u001b[0m\n",
      "\u001b[34m#015Downloading (…)_model.safetensors\";:  41%|████▏     | 1.43G/3.44G [00:05<00:09, 221MB/s]#033[A#033[A#033[A\u001b[0m\n",
      "\u001b[34m#015Downloading (…)_model.safetensors\";:  42%|████▏     | 1.46G/3.44G [00:05<00:08, 236MB/s]#033[A#033[A#033[A\u001b[0m\n",
      "\u001b[34m#015Downloading (…)_model.safetensors\";:  43%|████▎     | 1.49G/3.44G [00:05<00:08, 242MB/s]#033[A#033[A#033[A\u001b[0m\n",
      "\u001b[34m#015Downloading (…)_model.safetensors\";:  44%|████▍     | 1.52G/3.44G [00:05<00:07, 253MB/s]#033[A#033[A#033[A\u001b[0m\n",
      "\u001b[34m#015Downloading (…)_model.safetensors\";:  45%|████▌     | 1.55G/3.44G [00:05<00:07, 236MB/s]#033[A#033[A#033[A\u001b[0m\n",
      "\u001b[34m#015Downloading (…)_model.safetensors\";:  46%|████▌     | 1.58G/3.44G [00:05<00:07, 234MB/s]#033[A#033[A#033[A\u001b[0m\n",
      "\u001b[34m#015Downloading (…)_model.safetensors\";:  47%|████▋     | 1.61G/3.44G [00:05<00:10, 179MB/s]#033[A#033[A#033[A\u001b[0m\n",
      "\u001b[34m#015Downloading (…)_model.safetensors\";:  48%|████▊     | 1.65G/3.44G [00:06<00:09, 198MB/s]#033[A#033[A#033[A\u001b[0m\n",
      "\u001b[34m#015Downloading (…)_model.safetensors\";:  49%|████▉     | 1.69G/3.44G [00:06<00:07, 238MB/s]#033[A#033[A#033[A\u001b[0m\n",
      "\u001b[34m#015Downloading (…)_model.safetensors\";:  50%|█████     | 1.73G/3.44G [00:06<00:06, 274MB/s]#033[A#033[A#033[A\u001b[0m\n",
      "\u001b[34m#015Downloading (…)_model.safetensors\";:  52%|█████▏    | 1.78G/3.44G [00:06<00:05, 316MB/s]#033[A#033[A#033[A\u001b[0m\n",
      "\u001b[34m#015Downloading (…)_model.safetensors\";:  53%|█████▎    | 1.82G/3.44G [00:06<00:05, 299MB/s]#033[A#033[A#033[A\u001b[0m\n",
      "\u001b[34m#015Downloading (…)_model.safetensors\";:  54%|█████▍    | 1.87G/3.44G [00:06<00:06, 248MB/s]#033[A#033[A#033[A\u001b[0m\n",
      "\u001b[34m#015Downloading (…)_model.safetensors\";:  56%|█████▌    | 1.92G/3.44G [00:06<00:05, 293MB/s]#033[A#033[A#033[A\u001b[0m\n",
      "\u001b[34m#015Downloading (…)_model.safetensors\";:  57%|█████▋    | 1.97G/3.44G [00:07<00:04, 339MB/s]#033[A#033[A#033[A\u001b[0m\n",
      "\u001b[34m#015Downloading (…)_model.safetensors\";:  59%|█████▉    | 2.02G/3.44G [00:07<00:03, 356MB/s]#033[A#033[A#033[A\u001b[0m\n",
      "\u001b[34m#015Downloading (…)_model.safetensors\";:  60%|██████    | 2.08G/3.44G [00:07<00:03, 377MB/s]#033[A#033[A#033[A\u001b[0m\n",
      "\u001b[34m#015Downloading (…)_model.safetensors\";:  62%|██████▏   | 2.13G/3.44G [00:07<00:03, 391MB/s]#033[A#033[A#033[A\u001b[0m\n",
      "\u001b[34m#015Downloading (…)_model.safetensors\";:  63%|██████▎   | 2.17G/3.44G [00:07<00:03, 356MB/s]#033[A#033[A#033[A\u001b[0m\n",
      "\u001b[34m#015Downloading (…)_model.safetensors\";:  65%|██████▍   | 2.22G/3.44G [00:07<00:03, 385MB/s]#033[A#033[A#033[A\u001b[0m\n",
      "\u001b[34m#015Downloading (…)_model.safetensors\";:  66%|██████▌   | 2.28G/3.44G [00:07<00:02, 411MB/s]#033[A#033[A#033[A\u001b[0m\n",
      "\u001b[34m#015Downloading (…)_model.safetensors\";:  68%|██████▊   | 2.33G/3.44G [00:07<00:02, 435MB/s]#033[A#033[A#033[A\u001b[0m\n",
      "\u001b[34m#015Downloading (…)_model.safetensors\";:  70%|██████▉   | 2.39G/3.44G [00:08<00:02, 470MB/s]#033[A#033[A#033[A\u001b[0m\n",
      "\u001b[34m#015Downloading (…)_model.safetensors\";:  71%|███████   | 2.44G/3.44G [00:08<00:02, 474MB/s]#033[A#033[A#033[A\u001b[0m\n",
      "\u001b[34m#015Downloading (…)_model.safetensors\";:  73%|███████▎  | 2.50G/3.44G [00:08<00:01, 477MB/s]#033[A#033[A#033[A\u001b[0m\n",
      "\u001b[34m#015Downloading (…)_model.safetensors\";:  74%|███████▍  | 2.56G/3.44G [00:08<00:01, 501MB/s]#033[A#033[A#033[A\u001b[0m\n",
      "\u001b[34m#015Downloading (…)_model.safetensors\";:  76%|███████▌  | 2.61G/3.44G [00:08<00:01, 495MB/s]#033[A#033[A#033[A\u001b[0m\n",
      "\u001b[34m#015Downloading (…)_model.safetensors\";:  77%|███████▋  | 2.66G/3.44G [00:08<00:01, 503MB/s]#033[A#033[A#033[A\u001b[0m\n",
      "\u001b[34m#015Downloading (…)_model.safetensors\";:  79%|███████▉  | 2.72G/3.44G [00:08<00:01, 474MB/s]#033[A#033[A#033[A\u001b[0m\n",
      "\u001b[34m#015Downloading (…)_model.safetensors\";:  81%|████████  | 2.77G/3.44G [00:08<00:01, 471MB/s]#033[A#033[A#033[A\u001b[0m\n",
      "\u001b[34m#015Downloading (…)_model.safetensors\";:  82%|████████▏ | 2.83G/3.44G [00:08<00:01, 484MB/s]#033[A#033[A#033[A\u001b[0m\n",
      "\u001b[34m#015Downloading (…)_model.safetensors\";:  84%|████████▍ | 2.88G/3.44G [00:09<00:01, 483MB/s]#033[A#033[A#033[A\u001b[0m\n",
      "\u001b[34m#015Downloading (…)_model.safetensors\";:  85%|████████▌ | 2.94G/3.44G [00:09<00:01, 491MB/s]#033[A#033[A#033[A\u001b[0m\n",
      "\u001b[34m#015Downloading (…)_model.safetensors\";:  87%|████████▋ | 2.99G/3.44G [00:09<00:00, 484MB/s]#033[A#033[A#033[A\u001b[0m\n",
      "\u001b[34m#015Downloading (…)_model.safetensors\";:  89%|████████▊ | 3.05G/3.44G [00:09<00:00, 503MB/s]#033[A#033[A#033[A\u001b[0m\n",
      "\u001b[34m#015Downloading (…)_model.safetensors\";:  90%|█████████ | 3.10G/3.44G [00:09<00:00, 501MB/s]#033[A#033[A#033[A\u001b[0m\n",
      "\u001b[34m#015Downloading (…)_model.safetensors\";:  92%|█████████▏| 3.17G/3.44G [00:09<00:00, 514MB/s]#033[A#033[A#033[A\u001b[0m\n",
      "\u001b[34m#015Downloading (…)_model.safetensors\";:  94%|█████████▍| 3.23G/3.44G [00:09<00:00, 521MB/s]#033[A#033[A#033[A\u001b[0m\n",
      "\u001b[34m#015Downloading (…)_model.safetensors\";:  95%|█████████▌| 3.28G/3.44G [00:09<00:00, 519MB/s]#033[A#033[A#033[A\u001b[0m\n",
      "\u001b[34m#015Downloading (…)_model.safetensors\";:  97%|█████████▋| 3.33G/3.44G [00:09<00:00, 501MB/s]#033[A#033[A#033[A\u001b[0m\n",
      "\u001b[34m#015Downloading (…)_model.safetensors\";:  99%|█████████▊| 3.39G/3.44G [00:10<00:00, 492MB/s]#033[A#033[A#033[A\u001b[0m\n",
      "\u001b[34m#015Downloading (…)_model.safetensors\";: 100%|██████████| 3.44G/3.44G [00:10<00:00, 481MB/s]#033[A#033[A#033[A#015Downloading (…)_model.safetensors\";: 100%|██████████| 3.44G/3.44G [00:10<00:00, 339MB/s]\u001b[0m\n",
      "\u001b[34m#015Fetching 15 files:  87%|████████▋ | 13/15 [00:10<00:01,  1.23it/s]#015Fetching 15 files: 100%|██████████| 15/15 [00:10<00:00,  1.43it/s]\u001b[0m\n",
      "\u001b[34m#015  0%|          | 0/50 [00:00<?, ?it/s]#015  2%|▏         | 1/50 [00:10<08:39, 10.59s/it]#015  4%|▍         | 2/50 [00:20<08:01, 10.03s/it]#015  6%|▌         | 3/50 [00:30<07:55, 10.11s/it]#015  8%|▊         | 4/50 [00:40<07:48, 10.18s/it]#015 10%|█         | 5/50 [00:51<07:41, 10.25s/it]#015 12%|█▏        | 6/50 [01:01<07:34, 10.33s/it]#015 14%|█▍        | 7/50 [01:12<07:26, 10.39s/it]#015 16%|█▌        | 8/50 [01:22<07:19, 10.46s/it]#015 18%|█▊        | 9/50 [01:33<07:12, 10.55s/it]#015 20%|██        | 10/50 [01:44<07:04, 10.62s/it]#015 22%|██▏       | 11/50 [01:55<06:58, 10.72s/it]#015 24%|██▍       | 12/50 [02:06<06:50, 10.81s/it]#015 26%|██▌       | 13/50 [02:17<06:43, 10.90s/it]#015 28%|██▊       | 14/50 [02:28<06:35, 10.98s/it]#015 30%|███       | 15/50 [02:39<06:27, 11.06s/it]#015 32%|███▏      | 16/50 [02:51<06:18, 11.13s/it]#015 34%|███▍      | 17/50 [03:02<06:10, 11.22s/it]#015 36%|███▌      | 18/50 [03:13<06:00, 11.28s/it]#015 38%|███▊      | 19/50 [03:25<05:51, 11.34s/it]#015 40%|████      | 20/50 [03:36<05:42, 11.41s/it]#015 42%|████▏     | 21/50 [03:48<05:33, 11.49s/it]#015 44%|████▍     | 22/50 [04:00<05:24, 11.58s/it]#015 46%|████▌     | 23/50 [04:12<05:14, 11.64s/it]#015 48%|████▊     | 24/50 [04:23<05:03, 11.69s/it]#015 50%|█████     | 25/50 [04:35<04:53, 11.73s/it]#015 52%|█████▏    | 26/50 [04:47<04:41, 11.74s/it]#015 54%|█████▍    | 27/50 [04:59<04:29, 11.74s/it]#015 56%|█████▌    | 28/50 [05:11<04:18, 11.74s/it]#015 58%|█████▊    | 29/50 [05:22<04:06, 11.73s/it]#015 60%|██████    | 30/50 [05:34<03:54, 11.73s/it]#015 62%|██████▏   | 31/50 [05:46<03:43, 11.74s/it]#015 64%|██████▍   | 32/50 [05:57<03:31, 11.74s/it]#015 66%|██████▌   | 33/50 [06:09<03:19, 11.74s/it]#015 68%|██████▊   | 34/50 [06:21<03:07, 11.74s/it]#015 70%|███████   | 35/50 [06:33<02:56, 11.74s/it]#015 72%|███████▏  | 36/50 [06:44<02:44, 11.75s/it]#015 74%|███████▍  | 37/50 [06:56<02:32, 11.75s/it]#015 76%|███████▌  | 38/50 [07:08<02:20, 11.75s/it]#015 78%|███████▊  | 39/50 [07:20<02:09, 11.74s/it]#015 80%|████████  | 40/50 [07:31<01:57, 11.74s/it]#015 82%|████████▏ | 41/50 [07:43<01:45, 11.74s/it]#015 84%|████████▍ | 42/50 [07:55<01:33, 11.74s/it]#015 86%|████████▌ | 43/50 [08:07<01:22, 11.74s/it]#015 88%|████████▊ | 44/50 [08:18<01:10, 11.73s/it]#015 90%|█████████ | 45/50 [08:30<00:58, 11.74s/it]#015 92%|█████████▏| 46/50 [08:42<00:46, 11.73s/it]#015 94%|█████████▍| 47/50 [08:54<00:35, 11.74s/it]#015 96%|█████████▌| 48/50 [09:05<00:23, 11.75s/it]#015 98%|█████████▊| 49/50 [09:17<00:11, 11.74s/it]#015100%|██████████| 50/50 [09:29<00:00, 11.73s/it]#015100%|██████████| 50/50 [09:29<00:00, 11.38s/it]\u001b[0m\n",
      "\u001b[34m#015Downloading (…)okenizer_config.json:   0%|          | 0.00/806 [00:00<?, ?B/s]#015Downloading (…)okenizer_config.json: 100%|██████████| 806/806 [00:00<00:00, 330kB/s]\u001b[0m\n",
      "\u001b[34m#015Downloading (…)tokenizer/vocab.json:   0%|          | 0.00/1.06M [00:00<?, ?B/s]#015Downloading (…)tokenizer/vocab.json: 100%|██████████| 1.06M/1.06M [00:00<00:00, 76.4MB/s]\u001b[0m\n",
      "\u001b[34m#015Downloading (…)tokenizer/merges.txt:   0%|          | 0.00/525k [00:00<?, ?B/s]#015Downloading (…)tokenizer/merges.txt: 100%|██████████| 525k/525k [00:00<00:00, 100MB/s]\u001b[0m\n",
      "\u001b[34m#015Downloading (…)cial_tokens_map.json:   0%|          | 0.00/472 [00:00<?, ?B/s]#015Downloading (…)cial_tokens_map.json: 100%|██████████| 472/472 [00:00<00:00, 210kB/s]\u001b[0m\n",
      "\u001b[34m#015Downloading (…)_encoder/config.json:   0%|          | 0.00/617 [00:00<?, ?B/s]#015Downloading (…)_encoder/config.json: 100%|██████████| 617/617 [00:00<00:00, 302kB/s]\u001b[0m\n",
      "\u001b[34mYou are using a model of type clip_text_model to instantiate a model of type . This is not supported for all configurations of models and can yield errors.\u001b[0m\n",
      "\u001b[34m#015Downloading (…)\"model.safetensors\";:   0%|          | 0.00/492M [00:00<?, ?B/s]#015Downloading (…)\"model.safetensors\";:   9%|▊         | 41.9M/492M [00:00<00:01, 385MB/s]#015Downloading (…)\"model.safetensors\";:  19%|█▉        | 94.4M/492M [00:00<00:00, 427MB/s]#015Downloading (…)\"model.safetensors\";:  30%|██▉       | 147M/492M [00:00<00:00, 428MB/s] #015Downloading (…)\"model.safetensors\";:  43%|████▎     | 210M/492M [00:00<00:00, 475MB/s]#015Downloading (…)\"model.safetensors\";:  53%|█████▎    | 262M/492M [00:00<00:00, 486MB/s]#015Downloading (…)\"model.safetensors\";:  64%|██████▍   | 315M/492M [00:00<00:00, 489MB/s]#015Downloading (…)\"model.safetensors\";:  77%|███████▋  | 377M/492M [00:00<00:00, 498MB/s]#015Downloading (…)\"model.safetensors\";:  87%|████████▋ | 430M/492M [00:00<00:00, 474MB/s]#015Downloading (…)\"model.safetensors\";:  98%|█████████▊| 482M/492M [00:01<00:00, 398MB/s]#015Downloading (…)\"model.safetensors\";: 100%|██████████| 492M/492M [00:01<00:00, 438MB/s]\u001b[0m\n",
      "\u001b[34m/opt/conda/lib/python3.9/site-packages/bitsandbytes/cuda_setup/paths.py:27: UserWarning: WARNING: The following directories listed in your path were found to be non-existent: {PosixPath('${LD_LIBRARY_PATH}')}\n",
      "  warn(\u001b[0m\n",
      "\u001b[34m Loaded model. \n",
      " Allocated: 0.0GB \n",
      " Reserved: 0.0GB \u001b[0m\n",
      "\u001b[34m===================================BUG REPORT===================================\u001b[0m\n",
      "\u001b[34mWelcome to bitsandbytes. For bug reports, please submit your error trace to: https://github.com/TimDettmers/bitsandbytes/issues\u001b[0m\n",
      "\u001b[34mFor effortless bug reporting copy-paste your error into this form: https://docs.google.com/forms/d/e/1FAIpQLScPB8emS3Thkp66nvqwmjTEgxp8Y9ufuWTzFyr9kJ5AoI47dQ/viewform?usp=sf_link\u001b[0m\n",
      "\u001b[34m================================================================================\u001b[0m\n",
      "\u001b[34mCUDA SETUP: CUDA runtime path found: /opt/conda/lib/libcudart.so\u001b[0m\n",
      "\u001b[34mCUDA SETUP: Highest compute capability among GPUs detected: 7.5\u001b[0m\n",
      "\u001b[34mCUDA SETUP: Detected CUDA version 113\u001b[0m\n",
      "\u001b[34mCUDA SETUP: Loading binary /opt/conda/lib/python3.9/site-packages/bitsandbytes/libbitsandbytes_cuda113.so...\n",
      " Scheduler, EMA Loaded. \n",
      " Allocated: 5.5GB \n",
      " Reserved: 5.6GB \u001b[0m\n",
      "\u001b[34m***** Running training *****\n",
      "  Num examples = 6\n",
      "  Num batches each epoch = 6\n",
      "  Num Epochs = 2\n",
      "  Instantaneous batch size per device = 1\n",
      "  Total train batch size (w. parallel, distributed & accumulation) = 1\n",
      "  Gradient Accumulation steps = 1\n",
      "  Total optimization steps = 10\n",
      "  Actual steps: 10\n",
      "   Training settings: CPU: False Adam: True, Prec: fp16, Grad: True, TextTr: False EM: True, LR: 2e-06 LORA:False \n",
      " Allocated: 5.5GB \n",
      " Reserved: 5.6GB \u001b[0m\n",
      "\u001b[34m#015  0%|          | 0/10 [00:00<?, ?it/s]#015Steps:   0%|          | 0/10 [00:00<?, ?it/s]You're using a CLIPTokenizerFast tokenizer. Please note that with a fast tokenizer, using the `__call__` method is faster than using a method to encode the text followed by a call to the `pad` method to get a padded encoding.\u001b[0m\n",
      "\u001b[34m Step 0 completed. \u001b[0m\n",
      "\u001b[34m#015Steps:   0%|          | 0/10 [00:01<?, ?it/s, loss=0.837, lr=2e-6, vram=7.4/7.7GB]#015Steps:  10%|█         | 1/10 [00:01<00:13,  1.53s/it, loss=0.837, lr=2e-6, vram=7.4/7.7GB]#015Steps:  20%|██        | 2/10 [00:02<00:11,  1.49s/it, loss=0.837, lr=2e-6, vram=7.4/7.7GB]#015Steps:  20%|██        | 2/10 [00:04<00:11,  1.49s/it, loss=0.28, lr=2e-6, vram=7.4/7.7GB] #015Steps:  30%|███       | 3/10 [00:04<00:10,  1.48s/it, loss=0.28, lr=2e-6, vram=7.4/7.7GB]#015Steps:  40%|████      | 4/10 [00:05<00:08,  1.47s/it, loss=0.28, lr=2e-6, vram=7.4/7.7GB]#015Steps:  40%|████      | 4/10 [00:07<00:08,  1.47s/it, loss=0.249, lr=2e-6, vram=7.4/7.7GB]#015Steps:  50%|█████     | 5/10 [00:07<00:07,  1.47s/it, loss=0.249, lr=2e-6, vram=7.4/7.7GB]#015Steps:  60%|██████    | 6/10 [00:08<00:05,  1.47s/it, loss=0.249, lr=2e-6, vram=7.4/7.7GB]\n",
      " Allocated: 7.4GB \n",
      " Reserved: 7.7GB \n",
      " Step 5 completed. \n",
      " Allocated: 7.4GB \n",
      " Reserved: 7.7GB \u001b[0m\n",
      "\u001b[34m#015Fetching 15 files:   0%|          | 0/15 [00:00<?, ?it/s]#033[A#015Fetching 15 files: 100%|██████████| 15/15 [00:00<00:00, 64133.09it/s]\u001b[0m\n",
      "\u001b[34mTraining complete.\u001b[0m\n",
      "\u001b[34m#015Steps:  60%|██████    | 6/10 [00:16<00:05,  1.47s/it, loss=0.0614, lr=2e-6, vram=7.4/7.7GB]#015Steps:  70%|███████   | 7/10 [00:16<00:10,  3.46s/it, loss=0.0614, lr=2e-6, vram=7.4/7.7GB]#015Steps:  80%|████████  | 8/10 [00:17<00:05,  2.82s/it, loss=0.0614, lr=2e-6, vram=7.4/7.7GB]#015Steps:  80%|████████  | 8/10 [00:19<00:05,  2.82s/it, loss=0.401, lr=2e-6, vram=7.4/7.7GB] #015Steps:  90%|█████████ | 9/10 [00:19<00:02,  2.40s/it, loss=0.401, lr=2e-6, vram=7.4/7.7GB]#015Steps: 100%|██████████| 10/10 [00:20<00:00,  2.11s/it, loss=0.401, lr=2e-6, vram=7.4/7.7GB]#015Steps: 100%|██████████| 10/10 [00:22<00:00,  2.11s/it, loss=0.182, lr=2e-6, vram=7.4/7.7GB]\u001b[0m\n",
      "\u001b[34m#015Fetching 15 files:   0%|          | 0/15 [00:00<?, ?it/s]#033[A#015Fetching 15 files: 100%|██████████| 15/15 [00:00<00:00, 107730.41it/s]\u001b[0m\n",
      "\u001b[34m#015Steps: 100%|██████████| 10/10 [00:35<00:00,  3.54s/it, loss=0.182, lr=2e-6, vram=7.4/7.7GB]\u001b[0m\n",
      "\u001b[34mhuggingface/tokenizers: The current process just got forked, after parallelism has already been used. Disabling parallelism to avoid deadlocks...\u001b[0m\n",
      "\u001b[34mTo disable this warning, you can either:\u001b[0m\n",
      "\u001b[34m#011- Avoid using `tokenizers` before the fork if possible\u001b[0m\n",
      "\u001b[34m#011- Explicitly set the environment variable TOKENIZERS_PARALLELISM=(true | false)\u001b[0m\n",
      "\u001b[34mCloning into 'StableDiffusionInferenceScript'...\u001b[0m\n",
      "\u001b[34mhuggingface/tokenizers: The current process just got forked, after parallelism has already been used. Disabling parallelism to avoid deadlocks...\u001b[0m\n",
      "\u001b[34mTo disable this warning, you can either:\u001b[0m\n",
      "\u001b[34m#011- Avoid using `tokenizers` before the fork if possible\u001b[0m\n",
      "\u001b[34m#011- Explicitly set the environment variable TOKENIZERS_PARALLELISM=(true | false)\u001b[0m\n",
      "\u001b[34mcp /opt/ml/model/.git/hooks/pre-commit.sample s3://sagemaker-us-east-1-462188225149/dreambooth/trained_models/sd-dreambooth-finetuning-v2-2023-04-01-12-38-45-038/.git/hooks/pre-commit.sample\u001b[0m\n",
      "\u001b[34mcp /opt/ml/model/.git/hooks/post-update.sample s3://sagemaker-us-east-1-462188225149/dreambooth/trained_models/sd-dreambooth-finetuning-v2-2023-04-01-12-38-45-038/.git/hooks/post-update.sample\u001b[0m\n",
      "\u001b[34mcp /opt/ml/model/.git/HEAD s3://sagemaker-us-east-1-462188225149/dreambooth/trained_models/sd-dreambooth-finetuning-v2-2023-04-01-12-38-45-038/.git/HEAD\u001b[0m\n",
      "\u001b[34mcp /opt/ml/model/.git/logs/HEAD s3://sagemaker-us-east-1-462188225149/dreambooth/trained_models/sd-dreambooth-finetuning-v2-2023-04-01-12-38-45-038/.git/logs/HEAD\u001b[0m\n",
      "\u001b[34mcp /opt/ml/model/.git/hooks/pre-push.sample s3://sagemaker-us-east-1-462188225149/dreambooth/trained_models/sd-dreambooth-finetuning-v2-2023-04-01-12-38-45-038/.git/hooks/pre-push.sample\u001b[0m\n",
      "\u001b[34mcp /opt/ml/model/.git/info/exclude s3://sagemaker-us-east-1-462188225149/dreambooth/trained_models/sd-dreambooth-finetuning-v2-2023-04-01-12-38-45-038/.git/info/exclude\u001b[0m\n",
      "\u001b[34mcp /opt/ml/model/.git/index s3://sagemaker-us-east-1-462188225149/dreambooth/trained_models/sd-dreambooth-finetuning-v2-2023-04-01-12-38-45-038/.git/index\u001b[0m\n",
      "\u001b[34mcp /opt/ml/model/.git/description s3://sagemaker-us-east-1-462188225149/dreambooth/trained_models/sd-dreambooth-finetuning-v2-2023-04-01-12-38-45-038/.git/description\u001b[0m\n",
      "\u001b[34mcp /opt/ml/model/.git/logs/refs/heads/main s3://sagemaker-us-east-1-462188225149/dreambooth/trained_models/sd-dreambooth-finetuning-v2-2023-04-01-12-38-45-038/.git/logs/refs/heads/main\u001b[0m\n",
      "\u001b[34mcp /opt/ml/model/.git/objects/3b/c8a0749d2da531a91bb67e3f4918a0837c290d s3://sagemaker-us-east-1-462188225149/dreambooth/trained_models/sd-dreambooth-finetuning-v2-2023-04-01-12-38-45-038/.git/objects/3b/c8a0749d2da531a91bb67e3f4918a0837c290d\u001b[0m\n",
      "\u001b[34mcp /opt/ml/model/.git/hooks/prepare-commit-msg.sample s3://sagemaker-us-east-1-462188225149/dreambooth/trained_models/sd-dreambooth-finetuning-v2-2023-04-01-12-38-45-038/.git/hooks/prepare-commit-msg.sample\u001b[0m\n",
      "\u001b[34mcp /opt/ml/model/.git/hooks/pre-rebase.sample s3://sagemaker-us-east-1-462188225149/dreambooth/trained_models/sd-dreambooth-finetuning-v2-2023-04-01-12-38-45-038/.git/hooks/pre-rebase.sample\u001b[0m\n",
      "\u001b[34mcp /opt/ml/model/.git/hooks/applypatch-msg.sample s3://sagemaker-us-east-1-462188225149/dreambooth/trained_models/sd-dreambooth-finetuning-v2-2023-04-01-12-38-45-038/.git/hooks/applypatch-msg.sample\u001b[0m\n",
      "\u001b[34mcp /opt/ml/model/.git/config s3://sagemaker-us-east-1-462188225149/dreambooth/trained_models/sd-dreambooth-finetuning-v2-2023-04-01-12-38-45-038/.git/config\u001b[0m\n",
      "\u001b[34mcp /opt/ml/model/.git/hooks/fsmonitor-watchman.sample s3://sagemaker-us-east-1-462188225149/dreambooth/trained_models/sd-dreambooth-finetuning-v2-2023-04-01-12-38-45-038/.git/hooks/fsmonitor-watchman.sample\u001b[0m\n",
      "\u001b[34mcp /opt/ml/model/.git/hooks/commit-msg.sample s3://sagemaker-us-east-1-462188225149/dreambooth/trained_models/sd-dreambooth-finetuning-v2-2023-04-01-12-38-45-038/.git/hooks/commit-msg.sample\u001b[0m\n",
      "\u001b[34mcp /opt/ml/model/.git/objects/fc/672ef3877ea2357ca25665a2cbf8589db9da4e s3://sagemaker-us-east-1-462188225149/dreambooth/trained_models/sd-dreambooth-finetuning-v2-2023-04-01-12-38-45-038/.git/objects/fc/672ef3877ea2357ca25665a2cbf8589db9da4e\u001b[0m\n",
      "\u001b[34mcp /opt/ml/model/.git/refs/remotes/origin/HEAD s3://sagemaker-us-east-1-462188225149/dreambooth/trained_models/sd-dreambooth-finetuning-v2-2023-04-01-12-38-45-038/.git/refs/remotes/origin/HEAD\u001b[0m\n",
      "\u001b[34mcp /opt/ml/model/logging/dreambooth/events.out.tfevents.1680353744.ip-10-2-247-229.ec2.internal.20.0 s3://sagemaker-us-east-1-462188225149/dreambooth/trained_models/sd-dreambooth-finetuning-v2-2023-04-01-12-38-45-038/logging/dreambooth/events.out.tfevents.1680353744.ip-10-2-247-229.ec2.internal.20.0\u001b[0m\n",
      "\u001b[34mcp /opt/ml/model/.git/hooks/update.sample s3://sagemaker-us-east-1-462188225149/dreambooth/trained_models/sd-dreambooth-finetuning-v2-2023-04-01-12-38-45-038/.git/hooks/update.sample\u001b[0m\n",
      "\u001b[34mcp /opt/ml/model/.git/hooks/pre-applypatch.sample s3://sagemaker-us-east-1-462188225149/dreambooth/trained_models/sd-dreambooth-finetuning-v2-2023-04-01-12-38-45-038/.git/hooks/pre-applypatch.sample\u001b[0m\n",
      "\u001b[34mcp /opt/ml/model/.git/objects/a1/1f4849bcecce71e3f00283a1d30d0aee9cb462 s3://sagemaker-us-east-1-462188225149/dreambooth/trained_models/sd-dreambooth-finetuning-v2-2023-04-01-12-38-45-038/.git/objects/a1/1f4849bcecce71e3f00283a1d30d0aee9cb462\u001b[0m\n",
      "\u001b[34mcp /opt/ml/model/code/inference.py s3://sagemaker-us-east-1-462188225149/dreambooth/trained_models/sd-dreambooth-finetuning-v2-2023-04-01-12-38-45-038/code/inference.py\u001b[0m\n",
      "\u001b[34mcp /opt/ml/model/.git/logs/refs/remotes/origin/HEAD s3://sagemaker-us-east-1-462188225149/dreambooth/trained_models/sd-dreambooth-finetuning-v2-2023-04-01-12-38-45-038/.git/logs/refs/remotes/origin/HEAD\u001b[0m\n",
      "\u001b[34mcp /opt/ml/model/scheduler/scheduler_config.json s3://sagemaker-us-east-1-462188225149/dreambooth/trained_models/sd-dreambooth-finetuning-v2-2023-04-01-12-38-45-038/scheduler/scheduler_config.json\u001b[0m\n",
      "\u001b[34mcp /opt/ml/model/code/requirements.txt s3://sagemaker-us-east-1-462188225149/dreambooth/trained_models/sd-dreambooth-finetuning-v2-2023-04-01-12-38-45-038/code/requirements.txt\u001b[0m\n",
      "\u001b[34mcp /opt/ml/model/.git/hooks/pre-receive.sample s3://sagemaker-us-east-1-462188225149/dreambooth/trained_models/sd-dreambooth-finetuning-v2-2023-04-01-12-38-45-038/.git/hooks/pre-receive.sample\u001b[0m\n",
      "\u001b[34mcp /opt/ml/model/.git/objects/24/761d8a87b0ddf45151a19722e54ed4f9bfc2a9 s3://sagemaker-us-east-1-462188225149/dreambooth/trained_models/sd-dreambooth-finetuning-v2-2023-04-01-12-38-45-038/.git/objects/24/761d8a87b0ddf45151a19722e54ed4f9bfc2a9\u001b[0m\n",
      "\u001b[34mcp /opt/ml/model/.git/refs/heads/main s3://sagemaker-us-east-1-462188225149/dreambooth/trained_models/sd-dreambooth-finetuning-v2-2023-04-01-12-38-45-038/.git/refs/heads/main\u001b[0m\n",
      "\u001b[34mcp /opt/ml/model/.git/packed-refs s3://sagemaker-us-east-1-462188225149/dreambooth/trained_models/sd-dreambooth-finetuning-v2-2023-04-01-12-38-45-038/.git/packed-refs\u001b[0m\n",
      "\u001b[34mcp /opt/ml/model/unet/config.json s3://sagemaker-us-east-1-462188225149/dreambooth/trained_models/sd-dreambooth-finetuning-v2-2023-04-01-12-38-45-038/unet/config.json\u001b[0m\n",
      "\u001b[34mcp /opt/ml/model/tokenizer/special_tokens_map.json s3://sagemaker-us-east-1-462188225149/dreambooth/trained_models/sd-dreambooth-finetuning-v2-2023-04-01-12-38-45-038/tokenizer/special_tokens_map.json\u001b[0m\n",
      "\u001b[34mcp /opt/ml/model/vae/config.json s3://sagemaker-us-east-1-462188225149/dreambooth/trained_models/sd-dreambooth-finetuning-v2-2023-04-01-12-38-45-038/vae/config.json\u001b[0m\n",
      "\u001b[34mcp /opt/ml/model/.git/objects/5a/e5acc5d20a45f9a798e15c7960c8ceb2a81afc s3://sagemaker-us-east-1-462188225149/dreambooth/trained_models/sd-dreambooth-finetuning-v2-2023-04-01-12-38-45-038/.git/objects/5a/e5acc5d20a45f9a798e15c7960c8ceb2a81afc\u001b[0m\n",
      "\u001b[34mcp /opt/ml/model/text_encoder/config.json s3://sagemaker-us-east-1-462188225149/dreambooth/trained_models/sd-dreambooth-finetuning-v2-2023-04-01-12-38-45-038/text_encoder/config.json\u001b[0m\n",
      "\u001b[34mcp /opt/ml/model/model_index.json s3://sagemaker-us-east-1-462188225149/dreambooth/trained_models/sd-dreambooth-finetuning-v2-2023-04-01-12-38-45-038/model_index.json\u001b[0m\n",
      "\u001b[34mcp /opt/ml/model/tokenizer/tokenizer_config.json s3://sagemaker-us-east-1-462188225149/dreambooth/trained_models/sd-dreambooth-finetuning-v2-2023-04-01-12-38-45-038/tokenizer/tokenizer_config.json\u001b[0m\n",
      "\u001b[34mcp /opt/ml/model/feature_extractor/preprocessor_config.json s3://sagemaker-us-east-1-462188225149/dreambooth/trained_models/sd-dreambooth-finetuning-v2-2023-04-01-12-38-45-038/feature_extractor/preprocessor_config.json\u001b[0m\n",
      "\u001b[34mcp /opt/ml/model/tokenizer/merges.txt s3://sagemaker-us-east-1-462188225149/dreambooth/trained_models/sd-dreambooth-finetuning-v2-2023-04-01-12-38-45-038/tokenizer/merges.txt\u001b[0m\n",
      "\u001b[34mcp /opt/ml/model/tokenizer/vocab.json s3://sagemaker-us-east-1-462188225149/dreambooth/trained_models/sd-dreambooth-finetuning-v2-2023-04-01-12-38-45-038/tokenizer/vocab.json\u001b[0m\n",
      "\u001b[34mcp /opt/ml/model/vae/diffusion_pytorch_model.bin s3://sagemaker-us-east-1-462188225149/dreambooth/trained_models/sd-dreambooth-finetuning-v2-2023-04-01-12-38-45-038/vae/diffusion_pytorch_model.bin\u001b[0m\n",
      "\u001b[34mcp /opt/ml/model/text_encoder/pytorch_model.bin s3://sagemaker-us-east-1-462188225149/dreambooth/trained_models/sd-dreambooth-finetuning-v2-2023-04-01-12-38-45-038/text_encoder/pytorch_model.bin\u001b[0m\n",
      "\u001b[34mcp /opt/ml/model/model.tar.gz s3://sagemaker-us-east-1-462188225149/dreambooth/trained_models/sd-dreambooth-finetuning-v2-2023-04-01-12-38-45-038/model.tar.gz\u001b[0m\n",
      "\u001b[34mcp /opt/ml/model/unet/diffusion_pytorch_model.bin s3://sagemaker-us-east-1-462188225149/dreambooth/trained_models/sd-dreambooth-finetuning-v2-2023-04-01-12-38-45-038/unet/diffusion_pytorch_model.bin\u001b[0m\n",
      "\u001b[34mhuggingface/tokenizers: The current process just got forked, after parallelism has already been used. Disabling parallelism to avoid deadlocks...\u001b[0m\n",
      "\u001b[34mTo disable this warning, you can either:\u001b[0m\n",
      "\u001b[34m#011- Avoid using `tokenizers` before the fork if possible\u001b[0m\n",
      "\u001b[34m#011- Explicitly set the environment variable TOKENIZERS_PARALLELISM=(true | false)\u001b[0m\n",
      "\u001b[34m CLEANUP:  \n",
      " Allocated: 7.4GB \n",
      " Reserved: 10.8GB \n",
      " Cleanup completed. \n",
      " Allocated: 7.4GB \n",
      " Reserved: 7.7GB \n",
      " Cleanup Complete. \n",
      " Allocated: 7.4GB \n",
      " Reserved: 7.7GB \n",
      " Training completed, total steps: 10 \n",
      " Allocated: 7.4GB \n",
      " Reserved: 7.7GB \u001b[0m\n",
      "\u001b[34mbegin quick upload s3 , skip tgz\u001b[0m\n",
      "\u001b[34m/opt/ml/code\u001b[0m\n",
      "\u001b[34m['repositories', 'extensions', 'StableDiffusionInferenceScript', 'train_dreambooth.py', 'train.sh', 'CHANGELOG.md', 'LICENSE', 'README.md']\u001b[0m\n",
      "\u001b[34m['model_index.json', 'text_encoder', 'scheduler', 'unet', '.git', 'vae', 'tokenizer', 'logging', 'feature_extractor', 'code']\u001b[0m\n",
      "\u001b[34mmodel_index.json\u001b[0m\n",
      "\u001b[34mtext_encoder\u001b[0m\n",
      "\u001b[34mscheduler\u001b[0m\n",
      "\u001b[34munet\u001b[0m\n",
      "\u001b[34m.git\u001b[0m\n",
      "\u001b[34mmodel.tar.gz\u001b[0m\n",
      "\u001b[34mvae\u001b[0m\n",
      "\u001b[34mtokenizer\u001b[0m\n",
      "\u001b[34mlogging\u001b[0m\n",
      "\u001b[34mfeature_extractor\u001b[0m\n",
      "\u001b[34mcode\u001b[0m\n",
      "\u001b[34mbegain s3 copy ,cmd: /opt/conda/bin/s5cmd sync /opt/ml/model/ s3://sagemaker-us-east-1-462188225149/dreambooth/trained_models/sd-dreambooth-finetuning-v2-2023-04-01-12-38-45-038/\u001b[0m\n",
      "\u001b[34m=======================================\u001b[0m\n",
      "\u001b[34mclear /opt/ml/model\u001b[0m\n",
      "\u001b[34mmodel path: s3://sagemaker-us-east-1-462188225149/dreambooth/trained_models\u001b[0m\n",
      "\u001b[34m2023-04-01 13:18:34,135 sagemaker-training-toolkit INFO     Reporting training SUCCESS\u001b[0m\n",
      "\n",
      "2023-04-01 13:18:48 Uploading - Uploading generated training model\n",
      "2023-04-01 13:18:48 Completed - Training job completed\n",
      "Training seconds: 2331\n",
      "Billable seconds: 2331\n"
     ]
    }
   ],
   "source": [
    "from sagemaker.estimator import Estimator\n",
    "inputs = {\n",
    "    'images': f\"s3://sagemaker-{region_name}-{account_id}/dreambooth/images/\"\n",
    "}\n",
    "\n",
    "\n",
    "estimator = Estimator(\n",
    "    role = role,\n",
    "    instance_count=1,\n",
    "    instance_type = instance_type,\n",
    "    image_uri = image_uri,\n",
    "    hyperparameters = hyperparameters,\n",
    "    environment = environment,\n",
    ")\n",
    "estimator.fit(inputs)"
   ]
  },
  {
   "cell_type": "code",
   "execution_count": 19,
   "id": "bd181b4e-f435-4dca-842a-444d083fdf3c",
   "metadata": {
    "pycharm": {
     "name": "#%%\n"
    },
    "tags": []
   },
   "outputs": [
    {
     "name": "stdout",
     "output_type": "stream",
     "text": [
      "Model artifact saved at:\n",
      " s3://sagemaker-us-east-1-462188225149/dreambooth/trained_models/sd-dreambooth-finetuning-v2-2023-04-01-08-37-05-153/output/model.tar.gz\n"
     ]
    }
   ],
   "source": [
    "dreambooth_model_data = estimator.model_data\n",
    "print(\"Model artifact saved at:\\n\", dreambooth_model_data)"
   ]
  },
  {
   "cell_type": "markdown",
   "id": "e3e21926",
   "metadata": {
    "pycharm": {
     "name": "#%% md\n"
    }
   },
   "source": [
    "#### 4. Testing \n",
    "  you can use inference notebook load your new model"
   ]
  },
  {
   "cell_type": "code",
   "execution_count": null,
   "id": "2696183b",
   "metadata": {
    "pycharm": {
     "name": "#%%\n"
    }
   },
   "outputs": [],
   "source": [
    "import boto3\n",
    "import sagemaker\n",
    "account_id = boto3.client('sts').get_caller_identity().get('Account')\n",
    "region_name = boto3.session.Session().region_name\n",
    "\n",
    "sagemaker_session = sagemaker.Session()\n",
    "bucket = sagemaker_session.default_bucket()\n",
    "role = sagemaker.get_execution_role()\n",
    "\n"
   ]
  },
  {
   "cell_type": "code",
   "execution_count": 33,
   "id": "880bd57d-d9cc-40e9-92eb-97fc4f81afd8",
   "metadata": {
    "tags": []
   },
   "outputs": [
    {
     "name": "stdout",
     "output_type": "stream",
     "text": [
      "execution role: arn:aws:iam::462188225149:role/SagemakerSwain\n",
      "default bucket: sagemaker-us-east-1-462188225149\n"
     ]
    }
   ],
   "source": [
    "print(f'execution role: {role}')\n",
    "print(f'default bucket: {bucket}')"
   ]
  },
  {
   "cell_type": "code",
   "execution_count": null,
   "id": "e78c7dc1-876c-4404-b568-287e14b43a3e",
   "metadata": {},
   "outputs": [],
   "source": [
    "\n",
    "framework_version = '1.10'\n",
    "py_version = 'py38'\n",
    "\n",
    "model_environment = {\n",
    "    'SAGEMAKER_MODEL_SERVER_TIMEOUT':'600', \n",
    "    'SAGEMAKER_MODEL_SERVER_WORKERS': '1', \n",
    "    'model_name':'Linaqruf/anything-v3.0', #huggingface model name \n",
    "    's3_bucket':  bucket\n",
    "}"
   ]
  },
  {
   "cell_type": "code",
   "execution_count": null,
   "id": "4063028f-3414-43f0-af7e-f2e630da9d98",
   "metadata": {},
   "outputs": [],
   "source": [
    "!touch dummy\n",
    "!tar czvf model.tar.gz dummy sagemaker-logo-small.png\n",
    "assets_dir = 's3://{0}/{1}/assets/'.format(bucket, 'stablediffusion')\n",
    "model_data = 's3://{0}/{1}/assets/model.tar.gz'.format(bucket, 'stablediffusion')\n",
    "!aws s3 cp model.tar.gz $assets_dir\n",
    "!rm -f dummy model.tar.gz"
   ]
  },
  {
   "cell_type": "code",
   "execution_count": null,
   "id": "b0b21b59-cfb8-4ed4-97b0-a26a038aebdc",
   "metadata": {},
   "outputs": [],
   "source": [
    "from sagemaker.pytorch.model import PyTorchModel\n",
    "\n",
    "model = PyTorchModel(\n",
    "    name = None,\n",
    "    model_data = model_data,\n",
    "    entry_point = 'inference.py',\n",
    "    source_dir = \"./code/\",\n",
    "    role = role,\n",
    "    framework_version = framework_version, \n",
    "    py_version = py_version,\n",
    "    env = model_environment\n",
    ")"
   ]
  },
  {
   "cell_type": "code",
   "execution_count": null,
   "id": "3a37d4f0-6dc5-45a2-bfa0-59c606071200",
   "metadata": {},
   "outputs": [],
   "source": [
    "from sagemaker.async_inference import AsyncInferenceConfig\n",
    "import uuid\n",
    "\n",
    "endpoint_name = f'AIGC-Quick-Kit-{str(uuid.uuid4())}'\n",
    "instance_type = 'ml.g4dn.xlarge'\n",
    "instance_count = 1\n",
    "async_config = AsyncInferenceConfig(output_path='s3://{0}/{1}/asyncinvoke/out/'.format(bucket, 'stablediffusion'))\n",
    "\n",
    "print(f'endpoint_name: {endpoint_name}')"
   ]
  },
  {
   "cell_type": "code",
   "execution_count": null,
   "id": "b770f363-2463-4e75-9b31-142c85abc1d4",
   "metadata": {},
   "outputs": [],
   "source": [
    "from sagemaker.serializers import JSONSerializer\n",
    "from sagemaker.deserializers import JSONDeserializer\n",
    "\n",
    "\n",
    "async_predictor = model.deploy(\n",
    "    endpoint_name = endpoint_name,\n",
    "    instance_type = instance_type, \n",
    "    initial_instance_count = instance_count,\n",
    "    async_inference_config = async_config,\n",
    "    serializer = JSONSerializer(),\n",
    "    deserializer = JSONDeserializer()\n",
    ")"
   ]
  }
 ],
 "metadata": {
  "instance_type": "ml.m5.large",
  "kernelspec": {
   "display_name": "conda_pytorch_p39",
   "language": "python",
   "name": "conda_pytorch_p39"
  },
  "language_info": {
   "codemirror_mode": {
    "name": "ipython",
    "version": 3
   },
   "file_extension": ".py",
   "mimetype": "text/x-python",
   "name": "python",
   "nbconvert_exporter": "python",
   "pygments_lexer": "ipython3",
   "version": "3.9.15"
  }
 },
 "nbformat": 4,
 "nbformat_minor": 5
}
